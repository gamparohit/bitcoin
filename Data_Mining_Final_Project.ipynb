{
  "nbformat": 4,
  "nbformat_minor": 0,
  "metadata": {
    "colab": {
      "name": "Data Mining Final Project.ipynb",
      "provenance": [],
      "collapsed_sections": [],
      "machine_shape": "hm"
    },
    "kernelspec": {
      "name": "python3",
      "display_name": "Python 3"
    },
    "language_info": {
      "name": "python"
    },
    "accelerator": "TPU"
  },
  "cells": [
    {
      "cell_type": "code",
      "metadata": {
        "colab": {
          "base_uri": "https://localhost:8080/"
        },
        "id": "RCeakr05tS4y",
        "outputId": "d4f53a15-c902-45d8-edfe-a101d25d470d"
      },
      "source": [
        "cd /content/drive/MyDrive/Data Mining"
      ],
      "execution_count": 1,
      "outputs": [
        {
          "output_type": "stream",
          "name": "stdout",
          "text": [
            "/content/drive/MyDrive/Data Mining\n"
          ]
        }
      ]
    },
    {
      "cell_type": "code",
      "metadata": {
        "colab": {
          "base_uri": "https://localhost:8080/"
        },
        "id": "JMjK0E-z1vdB",
        "outputId": "6bd720ac-0b42-4459-b34a-608013b6ffa2"
      },
      "source": [
        "!pip install pytrends"
      ],
      "execution_count": 3,
      "outputs": [
        {
          "output_type": "stream",
          "name": "stdout",
          "text": [
            "Collecting pytrends\n",
            "  Downloading pytrends-4.7.3-py3-none-any.whl (14 kB)\n",
            "Requirement already satisfied: pandas>=0.25 in /usr/local/lib/python3.7/dist-packages (from pytrends) (1.1.5)\n",
            "Requirement already satisfied: requests in /usr/local/lib/python3.7/dist-packages (from pytrends) (2.23.0)\n",
            "Requirement already satisfied: lxml in /usr/local/lib/python3.7/dist-packages (from pytrends) (4.2.6)\n",
            "Requirement already satisfied: pytz>=2017.2 in /usr/local/lib/python3.7/dist-packages (from pandas>=0.25->pytrends) (2018.9)\n",
            "Requirement already satisfied: numpy>=1.15.4 in /usr/local/lib/python3.7/dist-packages (from pandas>=0.25->pytrends) (1.19.5)\n",
            "Requirement already satisfied: python-dateutil>=2.7.3 in /usr/local/lib/python3.7/dist-packages (from pandas>=0.25->pytrends) (2.8.2)\n",
            "Requirement already satisfied: six>=1.5 in /usr/local/lib/python3.7/dist-packages (from python-dateutil>=2.7.3->pandas>=0.25->pytrends) (1.15.0)\n",
            "Requirement already satisfied: idna<3,>=2.5 in /usr/local/lib/python3.7/dist-packages (from requests->pytrends) (2.10)\n",
            "Requirement already satisfied: urllib3!=1.25.0,!=1.25.1,<1.26,>=1.21.1 in /usr/local/lib/python3.7/dist-packages (from requests->pytrends) (1.24.3)\n",
            "Requirement already satisfied: certifi>=2017.4.17 in /usr/local/lib/python3.7/dist-packages (from requests->pytrends) (2021.10.8)\n",
            "Requirement already satisfied: chardet<4,>=3.0.2 in /usr/local/lib/python3.7/dist-packages (from requests->pytrends) (3.0.4)\n",
            "Installing collected packages: pytrends\n",
            "Successfully installed pytrends-4.7.3\n"
          ]
        }
      ]
    },
    {
      "cell_type": "code",
      "metadata": {
        "id": "MFZEsfdmz_QH"
      },
      "source": [
        "import os\n",
        "import math\n",
        "import matplotlib.pyplot as plt\n",
        "import keras\n",
        "import pandas as pd\n",
        "import numpy as np\n",
        "from pytrends import dailydata\n",
        "import tensorflow as tf\n",
        "from tensorflow.keras.models import Sequential\n",
        "from tensorflow.keras.layers import Dense\n",
        "from tensorflow.keras.layers import LSTM\n",
        "from tensorflow.keras.layers import Dropout\n",
        "from tensorflow.keras.layers import *\n",
        "from sklearn.preprocessing import MinMaxScaler\n",
        "from sklearn.metrics import mean_squared_error\n",
        "from sklearn.metrics import mean_absolute_error\n",
        "from sklearn.model_selection import train_test_split\n",
        "from tensorflow.keras.callbacks import EarlyStopping"
      ],
      "execution_count": 68,
      "outputs": []
    },
    {
      "cell_type": "code",
      "metadata": {
        "id": "YA89g4lStmud"
      },
      "source": [
        "bitcoin_1_day_data = pd.read_csv('BTC-USDT-1d.csv')"
      ],
      "execution_count": 69,
      "outputs": []
    },
    {
      "cell_type": "code",
      "metadata": {
        "id": "rGGlFxyOuErT"
      },
      "source": [
        "bitcoin_1_day_data.drop(columns = ['quote_asset_volume','taker_buy_base_asset_volume','taker_buy_quote_asset_volume','ignore','close_time'],inplace=True)\n",
        "#bitcoin_1_day_data.drop(columns = [\"volume\",\"number_of_trades\"],inplace=True)"
      ],
      "execution_count": 70,
      "outputs": []
    },
    {
      "cell_type": "code",
      "metadata": {
        "colab": {
          "base_uri": "https://localhost:8080/",
          "height": 206
        },
        "id": "jYCq479ZuOHe",
        "outputId": "9714bbb9-1345-4dc3-bae4-f5f01d830e98"
      },
      "source": [
        "bitcoin_1_day_data.head()"
      ],
      "execution_count": 71,
      "outputs": [
        {
          "output_type": "execute_result",
          "data": {
            "text/html": [
              "<div>\n",
              "<style scoped>\n",
              "    .dataframe tbody tr th:only-of-type {\n",
              "        vertical-align: middle;\n",
              "    }\n",
              "\n",
              "    .dataframe tbody tr th {\n",
              "        vertical-align: top;\n",
              "    }\n",
              "\n",
              "    .dataframe thead th {\n",
              "        text-align: right;\n",
              "    }\n",
              "</style>\n",
              "<table border=\"1\" class=\"dataframe\">\n",
              "  <thead>\n",
              "    <tr style=\"text-align: right;\">\n",
              "      <th></th>\n",
              "      <th>open_time</th>\n",
              "      <th>open</th>\n",
              "      <th>high</th>\n",
              "      <th>low</th>\n",
              "      <th>close</th>\n",
              "      <th>volume</th>\n",
              "      <th>number_of_trades</th>\n",
              "    </tr>\n",
              "  </thead>\n",
              "  <tbody>\n",
              "    <tr>\n",
              "      <th>0</th>\n",
              "      <td>1502928000000</td>\n",
              "      <td>4261.48</td>\n",
              "      <td>4485.39</td>\n",
              "      <td>4200.74</td>\n",
              "      <td>4285.08</td>\n",
              "      <td>795.150377</td>\n",
              "      <td>3427</td>\n",
              "    </tr>\n",
              "    <tr>\n",
              "      <th>1</th>\n",
              "      <td>1503014400000</td>\n",
              "      <td>4285.08</td>\n",
              "      <td>4371.52</td>\n",
              "      <td>3938.77</td>\n",
              "      <td>4108.37</td>\n",
              "      <td>1199.888264</td>\n",
              "      <td>5233</td>\n",
              "    </tr>\n",
              "    <tr>\n",
              "      <th>2</th>\n",
              "      <td>1503100800000</td>\n",
              "      <td>4108.37</td>\n",
              "      <td>4184.69</td>\n",
              "      <td>3850.00</td>\n",
              "      <td>4139.98</td>\n",
              "      <td>381.309763</td>\n",
              "      <td>2153</td>\n",
              "    </tr>\n",
              "    <tr>\n",
              "      <th>3</th>\n",
              "      <td>1503187200000</td>\n",
              "      <td>4120.98</td>\n",
              "      <td>4211.08</td>\n",
              "      <td>4032.62</td>\n",
              "      <td>4086.29</td>\n",
              "      <td>467.083022</td>\n",
              "      <td>2321</td>\n",
              "    </tr>\n",
              "    <tr>\n",
              "      <th>4</th>\n",
              "      <td>1503273600000</td>\n",
              "      <td>4069.13</td>\n",
              "      <td>4119.62</td>\n",
              "      <td>3911.79</td>\n",
              "      <td>4016.00</td>\n",
              "      <td>691.743060</td>\n",
              "      <td>3972</td>\n",
              "    </tr>\n",
              "  </tbody>\n",
              "</table>\n",
              "</div>"
            ],
            "text/plain": [
              "       open_time     open     high  ...    close       volume  number_of_trades\n",
              "0  1502928000000  4261.48  4485.39  ...  4285.08   795.150377              3427\n",
              "1  1503014400000  4285.08  4371.52  ...  4108.37  1199.888264              5233\n",
              "2  1503100800000  4108.37  4184.69  ...  4139.98   381.309763              2153\n",
              "3  1503187200000  4120.98  4211.08  ...  4086.29   467.083022              2321\n",
              "4  1503273600000  4069.13  4119.62  ...  4016.00   691.743060              3972\n",
              "\n",
              "[5 rows x 7 columns]"
            ]
          },
          "metadata": {},
          "execution_count": 71
        }
      ]
    },
    {
      "cell_type": "code",
      "metadata": {
        "id": "0rwzS_g_u9kC"
      },
      "source": [
        "bitcoin_1_day_data['open_time'] = pd.to_datetime(bitcoin_1_day_data['open_time'],unit='ms').astype('str')\n"
      ],
      "execution_count": 72,
      "outputs": []
    },
    {
      "cell_type": "code",
      "metadata": {
        "colab": {
          "base_uri": "https://localhost:8080/",
          "height": 238
        },
        "id": "Lxl75h-kx9rR",
        "outputId": "3af9477a-f2c4-4c65-d700-c1696c3672a1"
      },
      "source": [
        "bitcoin_1_day_data.describe().transpose()"
      ],
      "execution_count": 73,
      "outputs": [
        {
          "output_type": "execute_result",
          "data": {
            "text/html": [
              "<div>\n",
              "<style scoped>\n",
              "    .dataframe tbody tr th:only-of-type {\n",
              "        vertical-align: middle;\n",
              "    }\n",
              "\n",
              "    .dataframe tbody tr th {\n",
              "        vertical-align: top;\n",
              "    }\n",
              "\n",
              "    .dataframe thead th {\n",
              "        text-align: right;\n",
              "    }\n",
              "</style>\n",
              "<table border=\"1\" class=\"dataframe\">\n",
              "  <thead>\n",
              "    <tr style=\"text-align: right;\">\n",
              "      <th></th>\n",
              "      <th>count</th>\n",
              "      <th>mean</th>\n",
              "      <th>std</th>\n",
              "      <th>min</th>\n",
              "      <th>25%</th>\n",
              "      <th>50%</th>\n",
              "      <th>75%</th>\n",
              "      <th>max</th>\n",
              "    </tr>\n",
              "  </thead>\n",
              "  <tbody>\n",
              "    <tr>\n",
              "      <th>open</th>\n",
              "      <td>1571.0</td>\n",
              "      <td>16864.839064</td>\n",
              "      <td>16919.821554</td>\n",
              "      <td>3188.010000</td>\n",
              "      <td>6709.100000</td>\n",
              "      <td>9231.400000</td>\n",
              "      <td>1.641526e+04</td>\n",
              "      <td>6.752582e+04</td>\n",
              "    </tr>\n",
              "    <tr>\n",
              "      <th>high</th>\n",
              "      <td>1571.0</td>\n",
              "      <td>17379.047804</td>\n",
              "      <td>17422.350672</td>\n",
              "      <td>3276.500000</td>\n",
              "      <td>6836.015000</td>\n",
              "      <td>9400.000000</td>\n",
              "      <td>1.715969e+04</td>\n",
              "      <td>6.900000e+04</td>\n",
              "    </tr>\n",
              "    <tr>\n",
              "      <th>low</th>\n",
              "      <td>1571.0</td>\n",
              "      <td>16277.967537</td>\n",
              "      <td>16334.396860</td>\n",
              "      <td>2817.000000</td>\n",
              "      <td>6545.305000</td>\n",
              "      <td>9035.000000</td>\n",
              "      <td>1.572236e+04</td>\n",
              "      <td>6.622240e+04</td>\n",
              "    </tr>\n",
              "    <tr>\n",
              "      <th>close</th>\n",
              "      <td>1571.0</td>\n",
              "      <td>16892.701222</td>\n",
              "      <td>16935.015374</td>\n",
              "      <td>3189.020000</td>\n",
              "      <td>6712.280000</td>\n",
              "      <td>9232.000000</td>\n",
              "      <td>1.653847e+04</td>\n",
              "      <td>6.752583e+04</td>\n",
              "    </tr>\n",
              "    <tr>\n",
              "      <th>volume</th>\n",
              "      <td>1571.0</td>\n",
              "      <td>50599.094700</td>\n",
              "      <td>36573.812596</td>\n",
              "      <td>228.108068</td>\n",
              "      <td>28436.402899</td>\n",
              "      <td>43648.036943</td>\n",
              "      <td>6.503041e+04</td>\n",
              "      <td>4.022017e+05</td>\n",
              "    </tr>\n",
              "    <tr>\n",
              "      <th>number_of_trades</th>\n",
              "      <td>1571.0</td>\n",
              "      <td>749228.818587</td>\n",
              "      <td>761051.367406</td>\n",
              "      <td>2153.000000</td>\n",
              "      <td>211014.000000</td>\n",
              "      <td>430359.000000</td>\n",
              "      <td>1.096416e+06</td>\n",
              "      <td>6.331062e+06</td>\n",
              "    </tr>\n",
              "  </tbody>\n",
              "</table>\n",
              "</div>"
            ],
            "text/plain": [
              "                   count           mean  ...           75%           max\n",
              "open              1571.0   16864.839064  ...  1.641526e+04  6.752582e+04\n",
              "high              1571.0   17379.047804  ...  1.715969e+04  6.900000e+04\n",
              "low               1571.0   16277.967537  ...  1.572236e+04  6.622240e+04\n",
              "close             1571.0   16892.701222  ...  1.653847e+04  6.752583e+04\n",
              "volume            1571.0   50599.094700  ...  6.503041e+04  4.022017e+05\n",
              "number_of_trades  1571.0  749228.818587  ...  1.096416e+06  6.331062e+06\n",
              "\n",
              "[6 rows x 8 columns]"
            ]
          },
          "metadata": {},
          "execution_count": 73
        }
      ]
    },
    {
      "cell_type": "code",
      "metadata": {
        "id": "5qAU1v6s4Tfc",
        "colab": {
          "base_uri": "https://localhost:8080/",
          "height": 88
        },
        "outputId": "3fcc71aa-4bd2-4d32-9a32-075d51f1c13d"
      },
      "source": [
        "'''\n",
        "google_trends_list = ['bitcoin chart',\n",
        " 'bitcoin dollar',\n",
        " 'bitcoin dolar',\n",
        " 'bitcoin news',\n",
        " 'bitcoin mining',\n",
        " 'btc',\n",
        " 'bitcoin usd',\n",
        " 'bitcoin',\n",
        " 'bitcoin to usd',\n",
        " 'bitcoin price usd',\n",
        " 'bitcoin stock',\n",
        " 'bitcoin wallet',\n",
        " 'bitcoin value',\n",
        " 'cryptocurrency',\n",
        " 'coinbase',\n",
        " 'miner',\n",
        " 'price bitcoin',\n",
        " 'sell bitcoin',\n",
        " 'sell btc',\n",
        " 'what is bitcoin',\n",
        " 'buy bitcoin']\n",
        "# download daily trends data\n",
        "from pytrends import dailydata\n",
        "for topic in google_trends_list:\n",
        "  print(topic)\n",
        "  dailydata.get_daily_data(topic, 2017, 8, 2021, 12, geo = '').to_csv(\"google trends data/\"+topic+'.csv')\n",
        "'''\n",
        "\n"
      ],
      "execution_count": 74,
      "outputs": [
        {
          "output_type": "execute_result",
          "data": {
            "application/vnd.google.colaboratory.intrinsic+json": {
              "type": "string"
            },
            "text/plain": [
              "'\\ngoogle_trends_list = [\\'bitcoin chart\\',\\n \\'bitcoin dollar\\',\\n \\'bitcoin dolar\\',\\n \\'bitcoin news\\',\\n \\'bitcoin mining\\',\\n \\'btc\\',\\n \\'bitcoin usd\\',\\n \\'bitcoin\\',\\n \\'bitcoin to usd\\',\\n \\'bitcoin price usd\\',\\n \\'bitcoin stock\\',\\n \\'bitcoin wallet\\',\\n \\'bitcoin value\\',\\n \\'cryptocurrency\\',\\n \\'coinbase\\',\\n \\'miner\\',\\n \\'price bitcoin\\',\\n \\'sell bitcoin\\',\\n \\'sell btc\\',\\n \\'what is bitcoin\\',\\n \\'buy bitcoin\\']\\n# download daily trends data\\nfrom pytrends import dailydata\\nfor topic in google_trends_list:\\n  print(topic)\\n  dailydata.get_daily_data(topic, 2017, 8, 2021, 12, geo = \\'\\').to_csv(\"google trends data/\"+topic+\\'.csv\\')\\n'"
            ]
          },
          "metadata": {},
          "execution_count": 74
        }
      ]
    },
    {
      "cell_type": "code",
      "source": [
        "google_trends_dataframe = pd.DataFrame()\n",
        "google_trends_list = ['buy bitcoin','sell bitcoin']\n",
        "for keyword in google_trends_list:\n",
        "  if not len(google_trends_dataframe):\n",
        "    google_trends_dataframe = pd.read_csv(\"google trends data/\"+keyword+'.csv')[['date',keyword]]\n",
        "  if len(google_trends_dataframe):\n",
        "    google_trends_dataframe = pd.merge(google_trends_dataframe,pd.read_csv(\"google trends data/\"+keyword+'.csv')[['date',keyword]])\n",
        "merged_dataframe = pd.merge(bitcoin_1_day_data,google_trends_dataframe,left_on='open_time',right_on='date',how='outer')\n",
        "merged_dataframe.drop(columns=['date'],inplace=True)"
      ],
      "metadata": {
        "id": "ZpxdVLKPOCxx"
      },
      "execution_count": 75,
      "outputs": []
    },
    {
      "cell_type": "code",
      "metadata": {
        "colab": {
          "base_uri": "https://localhost:8080/",
          "height": 122
        },
        "id": "XfoZksim6A8l",
        "outputId": "8a12111e-1c06-454c-a082-614c31b681e4"
      },
      "source": [
        "'''\n",
        "#to download the google trends hourly data\n",
        "google_trends_list = ['buy bitcoin','sell bitcoin']\n",
        "from pytrends.request import TrendReq\n",
        "\n",
        "pytrends = TrendReq(hl='en-US', tz=360)\n",
        "\n",
        "pytrends.get_historical_interest(google_trends_list, year_start=2017,month_start=8, \n",
        "                                 day_start=1,hour_start=0, year_end=2017,month_end=12, day_end=31, hour_end=23,cat=0, geo='', gprop='', sleep=0).to_csv('hourly_trends_data_2017.csv')                       \n",
        "pytrends.get_historical_interest(google_trends_list, year_start=2018,month_start=1, \n",
        "                                 day_start=1,hour_start=0, year_end=2018,month_end=12,day_end=31, hour_end=23,cat=0, geo='', gprop='', sleep=0).to_csv('hourly_trends_data_2018.csv')\n",
        "pytrends.get_historical_interest(google_trends_list, year_start=2019,month_start=1, \n",
        "                                 day_start=1,hour_start=0, year_end=2019,month_end=12, day_end=31, hour_end=23,cat=0, geo='', gprop='', sleep=0).to_csv('hourly_trends_data_2019.csv')\n",
        "pytrends.get_historical_interest(google_trends_list, year_start=2020,month_start=1, \n",
        "                                 day_start=1,hour_start=0, year_end=2020,month_end=12, day_end=31, hour_end=23,cat=0, geo='', gprop='', sleep=0).to_csv('hourly_trends_data_2020.csv')\n",
        "\n",
        "pytrends.get_historical_interest(google_trends_list, year_start=2021,month_start=1, \n",
        "                                 day_start=1,hour_start=0, year_end=2021,month_end=12, day_end=31, hour_end=23,cat=0, geo='', gprop='', sleep=0).to_csv('hourly_trends_data_2021.csv')                                                                                                                                    \n",
        "'''                      "
      ],
      "execution_count": 76,
      "outputs": [
        {
          "output_type": "execute_result",
          "data": {
            "application/vnd.google.colaboratory.intrinsic+json": {
              "type": "string"
            },
            "text/plain": [
              "\"\\n#to download the google trends hourly data\\ngoogle_trends_list = ['buy bitcoin','sell bitcoin']\\nfrom pytrends.request import TrendReq\\n\\npytrends = TrendReq(hl='en-US', tz=360)\\n\\npytrends.get_historical_interest(google_trends_list, year_start=2017,month_start=8, \\n                                 day_start=1,hour_start=0, year_end=2017,month_end=12, day_end=31, hour_end=23,cat=0, geo='', gprop='', sleep=0).to_csv('hourly_trends_data_2017.csv')                       \\npytrends.get_historical_interest(google_trends_list, year_start=2018,month_start=1, \\n                                 day_start=1,hour_start=0, year_end=2018,month_end=12,day_end=31, hour_end=23,cat=0, geo='', gprop='', sleep=0).to_csv('hourly_trends_data_2018.csv')\\npytrends.get_historical_interest(google_trends_list, year_start=2019,month_start=1, \\n                                 day_start=1,hour_start=0, year_end=2019,month_end=12, day_end=31, hour_end=23,cat=0, geo='', gprop='', sleep=0).to_csv('hourly_trends_data_2019.csv')\\npytrends.get_historical_interest(google_trends_list, year_start=2020,month_start=1, \\n                                 day_start=1,hour_start=0, year_end=2020,month_end=12, day_end=31, hour_end=23,cat=0, geo='', gprop='', sleep=0).to_csv('hourly_trends_data_2020.csv')\\n\\npytrends.get_historical_interest(google_trends_list, year_start=2021,month_start=1, \\n                                 day_start=1,hour_start=0, year_end=2021,month_end=12, day_end=31, hour_end=23,cat=0, geo='', gprop='', sleep=0).to_csv('hourly_trends_data_2021.csv')                                                                                                                                    \\n\""
            ]
          },
          "metadata": {},
          "execution_count": 76
        }
      ]
    },
    {
      "cell_type": "code",
      "metadata": {
        "id": "EDymOH2wXa8C",
        "colab": {
          "base_uri": "https://localhost:8080/",
          "height": 88
        },
        "outputId": "e8666f57-7f45-4629-b27b-ebce6c7627b9"
      },
      "source": [
        "'''\n",
        "google_trends_dataframe = []\n",
        "for file in os.listdir():\n",
        "  if file[:19] == \"hourly_trends_data_\":\n",
        "    if len(google_trends_dataframe)==0:\n",
        "      google_trends_dataframe.append(pd.read_csv(file))\n",
        "    else:\n",
        "      google_trends_dataframe.append(pd.read_csv(file))\n",
        "google_trends_dataframe = pd.concat(google_trends_dataframe)\n",
        "google_trends_dataframe.dropna(inplace=True)\n",
        "google_trends_dataframe.drop(columns=['isPartial'],inplace=True)\n",
        "bitcoin_1_day_data['open_time'] = bitcoin_1_day_data['open_time'].apply(lambda x:x[:-4])\n",
        "merged_dataframe = pd.merge(bitcoin_1_day_data,google_trends_dataframe,left_on='open_time',right_on='date',how='inner')\n",
        "merged_dataframe.drop(columns=['date'],inplace=True)\n",
        "'''"
      ],
      "execution_count": 77,
      "outputs": [
        {
          "output_type": "execute_result",
          "data": {
            "application/vnd.google.colaboratory.intrinsic+json": {
              "type": "string"
            },
            "text/plain": [
              "'\\ngoogle_trends_dataframe = []\\nfor file in os.listdir():\\n  if file[:19] == \"hourly_trends_data_\":\\n    if len(google_trends_dataframe)==0:\\n      google_trends_dataframe.append(pd.read_csv(file))\\n    else:\\n      google_trends_dataframe.append(pd.read_csv(file))\\ngoogle_trends_dataframe = pd.concat(google_trends_dataframe)\\ngoogle_trends_dataframe.dropna(inplace=True)\\ngoogle_trends_dataframe.drop(columns=[\\'isPartial\\'],inplace=True)\\nbitcoin_1_day_data[\\'open_time\\'] = bitcoin_1_day_data[\\'open_time\\'].apply(lambda x:x[:-4])\\nmerged_dataframe = pd.merge(bitcoin_1_day_data,google_trends_dataframe,left_on=\\'open_time\\',right_on=\\'date\\',how=\\'inner\\')\\nmerged_dataframe.drop(columns=[\\'date\\'],inplace=True)\\n'"
            ]
          },
          "metadata": {},
          "execution_count": 77
        }
      ]
    },
    {
      "cell_type": "code",
      "source": [
        "merged_dataframe.dropna(inplace=True)"
      ],
      "metadata": {
        "id": "Ue2VbaDKAygQ"
      },
      "execution_count": 78,
      "outputs": []
    },
    {
      "cell_type": "code",
      "source": [
        "merged_dataframe['close']=merged_dataframe['close']>merged_dataframe['open']"
      ],
      "metadata": {
        "id": "lGQCfhiHDDeP"
      },
      "execution_count": 79,
      "outputs": []
    },
    {
      "cell_type": "code",
      "source": [
        "merged_dataframe.head()"
      ],
      "metadata": {
        "colab": {
          "base_uri": "https://localhost:8080/",
          "height": 206
        },
        "id": "SnR1Hf7EKCKu",
        "outputId": "4b43d36e-39a6-4a4a-d6dd-26bdcfe3e0d2"
      },
      "execution_count": 80,
      "outputs": [
        {
          "output_type": "execute_result",
          "data": {
            "text/html": [
              "<div>\n",
              "<style scoped>\n",
              "    .dataframe tbody tr th:only-of-type {\n",
              "        vertical-align: middle;\n",
              "    }\n",
              "\n",
              "    .dataframe tbody tr th {\n",
              "        vertical-align: top;\n",
              "    }\n",
              "\n",
              "    .dataframe thead th {\n",
              "        text-align: right;\n",
              "    }\n",
              "</style>\n",
              "<table border=\"1\" class=\"dataframe\">\n",
              "  <thead>\n",
              "    <tr style=\"text-align: right;\">\n",
              "      <th></th>\n",
              "      <th>open_time</th>\n",
              "      <th>open</th>\n",
              "      <th>high</th>\n",
              "      <th>low</th>\n",
              "      <th>close</th>\n",
              "      <th>volume</th>\n",
              "      <th>number_of_trades</th>\n",
              "      <th>buy bitcoin</th>\n",
              "      <th>sell bitcoin</th>\n",
              "    </tr>\n",
              "  </thead>\n",
              "  <tbody>\n",
              "    <tr>\n",
              "      <th>0</th>\n",
              "      <td>2017-08-17</td>\n",
              "      <td>4261.48</td>\n",
              "      <td>4485.39</td>\n",
              "      <td>4200.74</td>\n",
              "      <td>True</td>\n",
              "      <td>795.150377</td>\n",
              "      <td>3427.0</td>\n",
              "      <td>12.72</td>\n",
              "      <td>10.44</td>\n",
              "    </tr>\n",
              "    <tr>\n",
              "      <th>1</th>\n",
              "      <td>2017-08-18</td>\n",
              "      <td>4285.08</td>\n",
              "      <td>4371.52</td>\n",
              "      <td>3938.77</td>\n",
              "      <td>False</td>\n",
              "      <td>1199.888264</td>\n",
              "      <td>5233.0</td>\n",
              "      <td>18.24</td>\n",
              "      <td>6.12</td>\n",
              "    </tr>\n",
              "    <tr>\n",
              "      <th>2</th>\n",
              "      <td>2017-08-19</td>\n",
              "      <td>4108.37</td>\n",
              "      <td>4184.69</td>\n",
              "      <td>3850.00</td>\n",
              "      <td>True</td>\n",
              "      <td>381.309763</td>\n",
              "      <td>2153.0</td>\n",
              "      <td>16.08</td>\n",
              "      <td>13.68</td>\n",
              "    </tr>\n",
              "    <tr>\n",
              "      <th>3</th>\n",
              "      <td>2017-08-20</td>\n",
              "      <td>4120.98</td>\n",
              "      <td>4211.08</td>\n",
              "      <td>4032.62</td>\n",
              "      <td>False</td>\n",
              "      <td>467.083022</td>\n",
              "      <td>2321.0</td>\n",
              "      <td>10.40</td>\n",
              "      <td>10.92</td>\n",
              "    </tr>\n",
              "    <tr>\n",
              "      <th>4</th>\n",
              "      <td>2017-08-21</td>\n",
              "      <td>4069.13</td>\n",
              "      <td>4119.62</td>\n",
              "      <td>3911.79</td>\n",
              "      <td>False</td>\n",
              "      <td>691.743060</td>\n",
              "      <td>3972.0</td>\n",
              "      <td>8.32</td>\n",
              "      <td>7.28</td>\n",
              "    </tr>\n",
              "  </tbody>\n",
              "</table>\n",
              "</div>"
            ],
            "text/plain": [
              "    open_time     open     high  ...  number_of_trades  buy bitcoin  sell bitcoin\n",
              "0  2017-08-17  4261.48  4485.39  ...            3427.0        12.72         10.44\n",
              "1  2017-08-18  4285.08  4371.52  ...            5233.0        18.24          6.12\n",
              "2  2017-08-19  4108.37  4184.69  ...            2153.0        16.08         13.68\n",
              "3  2017-08-20  4120.98  4211.08  ...            2321.0        10.40         10.92\n",
              "4  2017-08-21  4069.13  4119.62  ...            3972.0         8.32          7.28\n",
              "\n",
              "[5 rows x 9 columns]"
            ]
          },
          "metadata": {},
          "execution_count": 80
        }
      ]
    },
    {
      "cell_type": "code",
      "metadata": {
        "id": "tg5dEvgo0eut"
      },
      "source": [
        "n = len(merged_dataframe)\n",
        "training_set = merged_dataframe.iloc[0:int(n*0.7),1:].values\n",
        "test_set = merged_dataframe.iloc[int(n*0.7):,1:].values\n",
        "num_features = training_set.shape[1]"
      ],
      "execution_count": 81,
      "outputs": []
    },
    {
      "cell_type": "code",
      "metadata": {
        "colab": {
          "base_uri": "https://localhost:8080/"
        },
        "id": "jbeZYtO71IVA",
        "outputId": "a4d42bc6-2aac-415d-beff-0c483524c7e1"
      },
      "source": [
        "# Feature Scaling\n",
        "sc = MinMaxScaler(feature_range = (0, 1))\n",
        "print(sc.fit(training_set))\n",
        "training_set_scaled = sc.transform(training_set)\n",
        "# Creating a data structure with 60 time-steps and 1 output\n",
        "X_train = []\n",
        "y_train = []\n",
        "for i in range(60, len(training_set)):\n",
        "    X_train.append(training_set_scaled[i-60:i,:])\n",
        "    y_train.append(training_set_scaled[i,3])\n",
        "X_train, y_train = tf.convert_to_tensor(X_train), tf.convert_to_tensor(y_train)"
      ],
      "execution_count": 82,
      "outputs": [
        {
          "output_type": "stream",
          "name": "stdout",
          "text": [
            "MinMaxScaler()\n"
          ]
        }
      ]
    },
    {
      "cell_type": "code",
      "metadata": {
        "id": "JCwVlL4RfIpF"
      },
      "source": [
        "test_set_scaled = sc.transform(test_set)\n",
        "X_test = []\n",
        "y_test = []\n",
        "for i in range(60, len(test_set)):\n",
        "    X_test.append(test_set_scaled[i-60:i, :])\n",
        "    y_test.append(test_set_scaled[i,3])\n",
        "X_test,y_test = tf.convert_to_tensor(X_test), tf.convert_to_tensor(y_test)"
      ],
      "execution_count": 83,
      "outputs": []
    },
    {
      "cell_type": "code",
      "source": [
        "# Compiling the RNN linear\n",
        "def compile_and_fit(model, X_train, y_train):\n",
        "  callback = tf.keras.callbacks.EarlyStopping(monitor='loss', patience=3)\n",
        "  model.compile(optimizer = 'adam', loss = 'mean_squared_error')\n",
        "  history = model.fit(X_train, y_train, epochs = 100, batch_size = 32, callbacks=[callback])\n",
        "  return history\n",
        "\n",
        "\n",
        "def compile_and_fit_log(model, X_train, y_train):\n",
        "  callback = tf.keras.callbacks.EarlyStopping(monitor='loss', patience=3)\n",
        "  '''\n",
        "  model.compile(optimizer='adam',\n",
        "              loss=tf.keras.losses.SparseCategoricalCrossentropy(from_logits=True),\n",
        "              metrics=['accuracy'])\n",
        "  '''\n",
        "  model.compile(optimizer='adam',\n",
        "              loss=tf.keras.losses.BinaryCrossentropy(from_logits=True),\n",
        "              metrics=['accuracy'])\n",
        "  \n",
        "  history = model.fit(X_train, y_train, epochs = 100, batch_size = 32, callbacks=[callback])\n",
        "  return history"
      ],
      "metadata": {
        "id": "mbW7C9jCvFvb"
      },
      "execution_count": 89,
      "outputs": []
    },
    {
      "cell_type": "code",
      "metadata": {
        "colab": {
          "base_uri": "https://localhost:8080/"
        },
        "id": "kFcceIs81bJD",
        "outputId": "c6ed2243-d289-4b05-9119-55777846b5be"
      },
      "source": [
        "google_trends_model = Sequential()\n",
        "google_trends_model.add(LSTM(units = 60, return_sequences = True, input_shape = (X_train.shape[1], num_features)))\n",
        "google_trends_model.add(Dropout(0.2))\n",
        "google_trends_model.add(LSTM(units = 120, return_sequences = True))\n",
        "google_trends_model.add(Dropout(0.2))\n",
        "google_trends_model.add(LSTM(units = 60))\n",
        "google_trends_model.add(Dropout(0.2))\n",
        "'''\n",
        "google_trends_model.add(Dense(units = 1))\n",
        "google_trends_model.add(Activation('linear'))\n",
        "history = compile_and_fit(google_trends_model,X_train, y_train)\n",
        "google_trends_model.save('my_model_with_1d_google_trends_price_prediction')\n",
        "'''\n",
        "google_trends_model.add(Dense(units = 1))\n",
        "history = compile_and_fit_log(google_trends_model,X_train, y_train)\n",
        "google_trends_model.save('my_model_with_1d_google_trends_price_change')\n",
        "model = Sequential()\n",
        "model.add(LSTM(units = 60, return_sequences = True, input_shape = (X_train.shape[1], num_features-2)))\n",
        "model.add(Dropout(0.2))\n",
        "model.add(LSTM(units = 120, return_sequences = True))\n",
        "model.add(Dropout(0.2))\n",
        "model.add(LSTM(units = 60))\n",
        "model.add(Dropout(0.2))\n",
        "'''\n",
        "model.add(Dense(units = 1))\n",
        "model.add(Activation('linear'))\n",
        "history = compile_and_fit(model,X_train[:,:,:-2], y_train)\n",
        "model.save('my_model_with_1d_without_google_trends_price_prediction')\n",
        "'''\n",
        "model.add(Dense(units = 1))\n",
        "history = compile_and_fit_log(model,X_train[:,:,:-2], y_train)\n",
        "model.save('my_model_with_1d_without_google_trends_price_change')"
      ],
      "execution_count": 91,
      "outputs": [
        {
          "output_type": "stream",
          "name": "stdout",
          "text": [
            "Epoch 1/100\n",
            "33/33 [==============================] - 14s 220ms/step - loss: 0.6994 - accuracy: 0.4730\n",
            "Epoch 2/100\n",
            "33/33 [==============================] - 7s 206ms/step - loss: 0.6931 - accuracy: 0.4740\n",
            "Epoch 3/100\n",
            "33/33 [==============================] - 7s 209ms/step - loss: 0.6926 - accuracy: 0.4740\n",
            "Epoch 4/100\n",
            "33/33 [==============================] - 7s 211ms/step - loss: 0.6925 - accuracy: 0.4740\n",
            "Epoch 5/100\n",
            "33/33 [==============================] - 7s 213ms/step - loss: 0.6919 - accuracy: 0.4740\n",
            "Epoch 6/100\n",
            "33/33 [==============================] - 7s 214ms/step - loss: 0.6915 - accuracy: 0.4740\n",
            "Epoch 7/100\n",
            "33/33 [==============================] - 7s 211ms/step - loss: 0.6930 - accuracy: 0.4740\n",
            "Epoch 8/100\n",
            "33/33 [==============================] - 7s 220ms/step - loss: 0.6916 - accuracy: 0.4740\n",
            "Epoch 9/100\n",
            "33/33 [==============================] - 7s 206ms/step - loss: 0.6919 - accuracy: 0.4740\n"
          ]
        },
        {
          "output_type": "stream",
          "name": "stderr",
          "text": [
            "WARNING:absl:Found untraced functions such as lstm_cell_41_layer_call_fn, lstm_cell_41_layer_call_and_return_conditional_losses, lstm_cell_42_layer_call_fn, lstm_cell_42_layer_call_and_return_conditional_losses, lstm_cell_43_layer_call_fn while saving (showing 5 of 15). These functions will not be directly callable after loading.\n"
          ]
        },
        {
          "output_type": "stream",
          "name": "stdout",
          "text": [
            "INFO:tensorflow:Assets written to: my_model_with_1d_google_trends_price_change/assets\n"
          ]
        },
        {
          "output_type": "stream",
          "name": "stderr",
          "text": [
            "INFO:tensorflow:Assets written to: my_model_with_1d_google_trends_price_change/assets\n",
            "WARNING:absl:<keras.layers.recurrent.LSTMCell object at 0x7f064474d690> has the same name 'LSTMCell' as a built-in Keras object. Consider renaming <class 'keras.layers.recurrent.LSTMCell'> to avoid naming conflicts when loading with `tf.keras.models.load_model`. If renaming is not possible, pass the object in the `custom_objects` parameter of the load function.\n",
            "WARNING:absl:<keras.layers.recurrent.LSTMCell object at 0x7f0644635e50> has the same name 'LSTMCell' as a built-in Keras object. Consider renaming <class 'keras.layers.recurrent.LSTMCell'> to avoid naming conflicts when loading with `tf.keras.models.load_model`. If renaming is not possible, pass the object in the `custom_objects` parameter of the load function.\n",
            "WARNING:absl:<keras.layers.recurrent.LSTMCell object at 0x7f0645cd8a10> has the same name 'LSTMCell' as a built-in Keras object. Consider renaming <class 'keras.layers.recurrent.LSTMCell'> to avoid naming conflicts when loading with `tf.keras.models.load_model`. If renaming is not possible, pass the object in the `custom_objects` parameter of the load function.\n"
          ]
        },
        {
          "output_type": "stream",
          "name": "stdout",
          "text": [
            "Epoch 1/100\n",
            "33/33 [==============================] - 15s 226ms/step - loss: 0.6957 - accuracy: 0.4740\n",
            "Epoch 2/100\n",
            "33/33 [==============================] - 7s 215ms/step - loss: 0.6936 - accuracy: 0.4740\n",
            "Epoch 3/100\n",
            "33/33 [==============================] - 7s 204ms/step - loss: 0.6927 - accuracy: 0.4740\n",
            "Epoch 4/100\n",
            "33/33 [==============================] - 7s 209ms/step - loss: 0.6926 - accuracy: 0.4740\n",
            "Epoch 5/100\n",
            "33/33 [==============================] - 7s 212ms/step - loss: 0.6926 - accuracy: 0.4740\n",
            "Epoch 6/100\n",
            "33/33 [==============================] - 7s 200ms/step - loss: 0.6925 - accuracy: 0.4740\n",
            "Epoch 7/100\n",
            "33/33 [==============================] - 7s 205ms/step - loss: 0.6926 - accuracy: 0.4740\n",
            "Epoch 8/100\n",
            "33/33 [==============================] - 7s 217ms/step - loss: 0.6912 - accuracy: 0.4740\n",
            "Epoch 9/100\n",
            "33/33 [==============================] - 7s 213ms/step - loss: 0.6926 - accuracy: 0.4740\n",
            "Epoch 10/100\n",
            "33/33 [==============================] - 7s 208ms/step - loss: 0.6919 - accuracy: 0.4740\n",
            "Epoch 11/100\n",
            "33/33 [==============================] - 7s 204ms/step - loss: 0.6914 - accuracy: 0.4740\n"
          ]
        },
        {
          "output_type": "stream",
          "name": "stderr",
          "text": [
            "WARNING:absl:Found untraced functions such as lstm_cell_44_layer_call_fn, lstm_cell_44_layer_call_and_return_conditional_losses, lstm_cell_45_layer_call_fn, lstm_cell_45_layer_call_and_return_conditional_losses, lstm_cell_46_layer_call_fn while saving (showing 5 of 15). These functions will not be directly callable after loading.\n"
          ]
        },
        {
          "output_type": "stream",
          "name": "stdout",
          "text": [
            "INFO:tensorflow:Assets written to: my_model_with_1d_without_google_trends_price_change/assets\n"
          ]
        },
        {
          "output_type": "stream",
          "name": "stderr",
          "text": [
            "INFO:tensorflow:Assets written to: my_model_with_1d_without_google_trends_price_change/assets\n",
            "WARNING:absl:<keras.layers.recurrent.LSTMCell object at 0x7f0632f16610> has the same name 'LSTMCell' as a built-in Keras object. Consider renaming <class 'keras.layers.recurrent.LSTMCell'> to avoid naming conflicts when loading with `tf.keras.models.load_model`. If renaming is not possible, pass the object in the `custom_objects` parameter of the load function.\n",
            "WARNING:absl:<keras.layers.recurrent.LSTMCell object at 0x7f0632f0add0> has the same name 'LSTMCell' as a built-in Keras object. Consider renaming <class 'keras.layers.recurrent.LSTMCell'> to avoid naming conflicts when loading with `tf.keras.models.load_model`. If renaming is not possible, pass the object in the `custom_objects` parameter of the load function.\n",
            "WARNING:absl:<keras.layers.recurrent.LSTMCell object at 0x7f0632f09d50> has the same name 'LSTMCell' as a built-in Keras object. Consider renaming <class 'keras.layers.recurrent.LSTMCell'> to avoid naming conflicts when loading with `tf.keras.models.load_model`. If renaming is not possible, pass the object in the `custom_objects` parameter of the load function.\n"
          ]
        }
      ]
    },
    {
      "cell_type": "code",
      "source": [
        "#logistic\n",
        "test_loss, test_acc = model.evaluate(X_test[:,:,:-2],  y_test, verbose=2)\n",
        "test_loss, test_acc = google_trends_model.evaluate(X_test,  y_test, verbose=2)"
      ],
      "metadata": {
        "colab": {
          "base_uri": "https://localhost:8080/"
        },
        "id": "54kYdXanFjsk",
        "outputId": "99929a81-363c-40e2-c971-223f1dad4464"
      },
      "execution_count": 92,
      "outputs": [
        {
          "output_type": "stream",
          "name": "stdout",
          "text": [
            "13/13 - 2s - loss: 0.7030 - accuracy: 0.4647 - 2s/epoch - 168ms/step\n",
            "13/13 - 2s - loss: 0.6964 - accuracy: 0.4647 - 2s/epoch - 165ms/step\n"
          ]
        }
      ]
    },
    {
      "cell_type": "code",
      "metadata": {
        "id": "yViUDori2sGK"
      },
      "source": [
        "'''\n",
        "#linear\n",
        "predicted_stock_price = model.predict(X_test[:,:,:-2])/sc.scale_[3]\n",
        "predicted_stock_price_with_google_trends = google_trends_model.predict(X_test)/sc.scale_[3]\n",
        "# Visualising the results\n",
        "plt.figure(figsize=(18,16))\n",
        "plt.plot(merged_dataframe.iloc[int(n*0.7)+60:,4].values, color = 'red', label = 'Real Bitcoin Price')\n",
        "plt.plot(predicted_stock_price, color = 'blue', label = ' Predicted Price')\n",
        "plt.plot(predicted_stock_price_with_google_trends, color = 'green', label = 'Predicted Price with google trends')\n",
        "plt.xticks(np.arange(0,len(test_set[60:,3]),50))\n",
        "plt.title('Bitcoin Price Prediction')\n",
        "plt.xlabel('Time')\n",
        "plt.ylabel('Bitcoin Price')\n",
        "plt.legend()\n",
        "plt.show()\n",
        "Output_Df = pd.DataFrame()\n",
        "original_close_Df = merged_dataframe.iloc[int(n*0.7)+60:,4].reset_index(drop = True)\n",
        "Output_Df['original_close_percentage'] = (original_close_Df-original_close_Df.shift(1))/original_close_Df*100\n",
        "predicted_stock_price_ = pd.Series(predicted_stock_price.reshape(1,-1)[0])\n",
        "Output_Df['model_close_percentage'] = (predicted_stock_price_-predicted_stock_price_.shift(1))/predicted_stock_price_*100\n",
        "predicted_stock_price_with_google_trends_ = pd.Series(predicted_stock_price_with_google_trends.reshape(1,-1)[0])\n",
        "Output_Df['model_with_google_trends_close_percentage'] = (predicted_stock_price_with_google_trends_-predicted_stock_price_with_google_trends_.shift(1))/predicted_stock_price_with_google_trends_*100\n",
        "Output_Df.dropna(inplace=True)\n",
        "Output_Df['ori_gain']=Output_Df['original_close_percentage']>0\n",
        "Output_Df['no_google_trends_gain']=Output_Df['model_close_percentage']>0\n",
        "Output_Df['google_trends_gain']=Output_Df['model_with_google_trends_close_percentage']>0\n",
        "print((Output_Df['ori_gain'] == Output_Df['no_google_trends_gain']).mean())\n",
        "print((Output_Df['ori_gain'] == Output_Df['google_trends_gain']).mean())\n",
        "'''"
      ],
      "execution_count": 24,
      "outputs": []
    }
  ]
}