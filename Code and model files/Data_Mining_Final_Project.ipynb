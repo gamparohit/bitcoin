{
  "nbformat": 4,
  "nbformat_minor": 0,
  "metadata": {
    "colab": {
      "name": "Data Mining Final Project.ipynb",
      "provenance": [],
      "collapsed_sections": [],
      "machine_shape": "hm"
    },
    "kernelspec": {
      "name": "python3",
      "display_name": "Python 3"
    },
    "language_info": {
      "name": "python"
    },
    "accelerator": "TPU"
  },
  "cells": [
    {
      "cell_type": "code",
      "metadata": {
        "colab": {
          "base_uri": "https://localhost:8080/"
        },
        "id": "RCeakr05tS4y",
        "outputId": "972cdb46-7253-49d9-c3d1-82558ae09266"
      },
      "source": [
        "cd /content/drive/MyDrive/Data Mining"
      ],
      "execution_count": 1,
      "outputs": [
        {
          "output_type": "stream",
          "name": "stdout",
          "text": [
            "/content/drive/MyDrive/Data Mining\n"
          ]
        }
      ]
    },
    {
      "cell_type": "code",
      "metadata": {
        "colab": {
          "base_uri": "https://localhost:8080/"
        },
        "id": "JMjK0E-z1vdB",
        "outputId": "86809921-1bc3-48d1-b410-932ee1d9da69"
      },
      "source": [
        "!pip install pytrends"
      ],
      "execution_count": 2,
      "outputs": [
        {
          "output_type": "stream",
          "name": "stdout",
          "text": [
            "Collecting pytrends\n",
            "  Downloading pytrends-4.7.3-py3-none-any.whl (14 kB)\n",
            "Requirement already satisfied: pandas>=0.25 in /usr/local/lib/python3.7/dist-packages (from pytrends) (1.1.5)\n",
            "Requirement already satisfied: requests in /usr/local/lib/python3.7/dist-packages (from pytrends) (2.23.0)\n",
            "Requirement already satisfied: lxml in /usr/local/lib/python3.7/dist-packages (from pytrends) (4.2.6)\n",
            "Requirement already satisfied: numpy>=1.15.4 in /usr/local/lib/python3.7/dist-packages (from pandas>=0.25->pytrends) (1.19.5)\n",
            "Requirement already satisfied: pytz>=2017.2 in /usr/local/lib/python3.7/dist-packages (from pandas>=0.25->pytrends) (2018.9)\n",
            "Requirement already satisfied: python-dateutil>=2.7.3 in /usr/local/lib/python3.7/dist-packages (from pandas>=0.25->pytrends) (2.8.2)\n",
            "Requirement already satisfied: six>=1.5 in /usr/local/lib/python3.7/dist-packages (from python-dateutil>=2.7.3->pandas>=0.25->pytrends) (1.15.0)\n",
            "Requirement already satisfied: urllib3!=1.25.0,!=1.25.1,<1.26,>=1.21.1 in /usr/local/lib/python3.7/dist-packages (from requests->pytrends) (1.24.3)\n",
            "Requirement already satisfied: certifi>=2017.4.17 in /usr/local/lib/python3.7/dist-packages (from requests->pytrends) (2021.10.8)\n",
            "Requirement already satisfied: idna<3,>=2.5 in /usr/local/lib/python3.7/dist-packages (from requests->pytrends) (2.10)\n",
            "Requirement already satisfied: chardet<4,>=3.0.2 in /usr/local/lib/python3.7/dist-packages (from requests->pytrends) (3.0.4)\n",
            "Installing collected packages: pytrends\n",
            "Successfully installed pytrends-4.7.3\n"
          ]
        }
      ]
    },
    {
      "cell_type": "code",
      "metadata": {
        "id": "MFZEsfdmz_QH"
      },
      "source": [
        "import os\n",
        "import math\n",
        "import matplotlib.pyplot as plt\n",
        "import keras\n",
        "import pandas as pd\n",
        "import numpy as np\n",
        "from pytrends import dailydata\n",
        "import tensorflow as tf\n",
        "from tensorflow.keras.models import Sequential\n",
        "from tensorflow.keras.layers import Dense\n",
        "from tensorflow.keras.layers import LSTM\n",
        "from tensorflow.keras.layers import Dropout\n",
        "from tensorflow.keras.layers import *\n",
        "from sklearn.preprocessing import MinMaxScaler\n",
        "from sklearn.metrics import mean_squared_error\n",
        "from sklearn.metrics import mean_absolute_error\n",
        "from sklearn.model_selection import train_test_split\n",
        "from tensorflow.keras.callbacks import EarlyStopping"
      ],
      "execution_count": 3,
      "outputs": []
    },
    {
      "cell_type": "code",
      "metadata": {
        "id": "YA89g4lStmud"
      },
      "source": [
        "bitcoin_1_day_data = pd.read_csv('BTC-USDT-1h.csv')"
      ],
      "execution_count": null,
      "outputs": []
    },
    {
      "cell_type": "code",
      "metadata": {
        "id": "rGGlFxyOuErT"
      },
      "source": [
        "bitcoin_1_day_data.drop(columns = ['close_time'],inplace=True)"
      ],
      "execution_count": null,
      "outputs": []
    },
    {
      "cell_type": "code",
      "metadata": {
        "colab": {
          "base_uri": "https://localhost:8080/",
          "height": 226
        },
        "id": "jYCq479ZuOHe",
        "outputId": "3b4da6ae-861e-4856-a85a-38f046af830c"
      },
      "source": [
        "bitcoin_1_day_data.head()"
      ],
      "execution_count": null,
      "outputs": [
        {
          "output_type": "execute_result",
          "data": {
            "text/html": [
              "<div>\n",
              "<style scoped>\n",
              "    .dataframe tbody tr th:only-of-type {\n",
              "        vertical-align: middle;\n",
              "    }\n",
              "\n",
              "    .dataframe tbody tr th {\n",
              "        vertical-align: top;\n",
              "    }\n",
              "\n",
              "    .dataframe thead th {\n",
              "        text-align: right;\n",
              "    }\n",
              "</style>\n",
              "<table border=\"1\" class=\"dataframe\">\n",
              "  <thead>\n",
              "    <tr style=\"text-align: right;\">\n",
              "      <th></th>\n",
              "      <th>open_time</th>\n",
              "      <th>open</th>\n",
              "      <th>high</th>\n",
              "      <th>low</th>\n",
              "      <th>close</th>\n",
              "      <th>volume</th>\n",
              "      <th>quote_asset_volume</th>\n",
              "      <th>number_of_trades</th>\n",
              "      <th>taker_buy_base_asset_volume</th>\n",
              "      <th>taker_buy_quote_asset_volume</th>\n",
              "      <th>ignore</th>\n",
              "    </tr>\n",
              "  </thead>\n",
              "  <tbody>\n",
              "    <tr>\n",
              "      <th>0</th>\n",
              "      <td>1502942400000</td>\n",
              "      <td>4261.48</td>\n",
              "      <td>4313.62</td>\n",
              "      <td>4261.32</td>\n",
              "      <td>4308.83</td>\n",
              "      <td>47.181009</td>\n",
              "      <td>202366.138393</td>\n",
              "      <td>171</td>\n",
              "      <td>35.160503</td>\n",
              "      <td>150952.477943</td>\n",
              "      <td>7887.635513</td>\n",
              "    </tr>\n",
              "    <tr>\n",
              "      <th>1</th>\n",
              "      <td>1502946000000</td>\n",
              "      <td>4308.83</td>\n",
              "      <td>4328.69</td>\n",
              "      <td>4291.37</td>\n",
              "      <td>4315.32</td>\n",
              "      <td>23.234916</td>\n",
              "      <td>100304.823567</td>\n",
              "      <td>102</td>\n",
              "      <td>21.448071</td>\n",
              "      <td>92608.279728</td>\n",
              "      <td>8039.262402</td>\n",
              "    </tr>\n",
              "    <tr>\n",
              "      <th>2</th>\n",
              "      <td>1502949600000</td>\n",
              "      <td>4330.29</td>\n",
              "      <td>4345.45</td>\n",
              "      <td>4309.37</td>\n",
              "      <td>4324.35</td>\n",
              "      <td>7.229691</td>\n",
              "      <td>31282.312670</td>\n",
              "      <td>36</td>\n",
              "      <td>4.802861</td>\n",
              "      <td>20795.317224</td>\n",
              "      <td>8041.760498</td>\n",
              "    </tr>\n",
              "    <tr>\n",
              "      <th>3</th>\n",
              "      <td>1502953200000</td>\n",
              "      <td>4316.62</td>\n",
              "      <td>4349.99</td>\n",
              "      <td>4287.41</td>\n",
              "      <td>4349.99</td>\n",
              "      <td>4.443249</td>\n",
              "      <td>19241.058300</td>\n",
              "      <td>25</td>\n",
              "      <td>2.602292</td>\n",
              "      <td>11291.347015</td>\n",
              "      <td>8048.127886</td>\n",
              "    </tr>\n",
              "    <tr>\n",
              "      <th>4</th>\n",
              "      <td>1502956800000</td>\n",
              "      <td>4333.32</td>\n",
              "      <td>4377.85</td>\n",
              "      <td>4333.32</td>\n",
              "      <td>4360.69</td>\n",
              "      <td>0.972807</td>\n",
              "      <td>4239.503586</td>\n",
              "      <td>28</td>\n",
              "      <td>0.814655</td>\n",
              "      <td>3552.746817</td>\n",
              "      <td>8018.036500</td>\n",
              "    </tr>\n",
              "  </tbody>\n",
              "</table>\n",
              "</div>"
            ],
            "text/plain": [
              "       open_time     open  ...  taker_buy_quote_asset_volume       ignore\n",
              "0  1502942400000  4261.48  ...                 150952.477943  7887.635513\n",
              "1  1502946000000  4308.83  ...                  92608.279728  8039.262402\n",
              "2  1502949600000  4330.29  ...                  20795.317224  8041.760498\n",
              "3  1502953200000  4316.62  ...                  11291.347015  8048.127886\n",
              "4  1502956800000  4333.32  ...                   3552.746817  8018.036500\n",
              "\n",
              "[5 rows x 11 columns]"
            ]
          },
          "metadata": {},
          "execution_count": 41
        }
      ]
    },
    {
      "cell_type": "code",
      "metadata": {
        "id": "0rwzS_g_u9kC"
      },
      "source": [
        "bitcoin_1_day_data['open_time'] = pd.to_datetime(bitcoin_1_day_data['open_time'],unit='ms').astype('str')\n"
      ],
      "execution_count": null,
      "outputs": []
    },
    {
      "cell_type": "code",
      "metadata": {
        "colab": {
          "base_uri": "https://localhost:8080/",
          "height": 363
        },
        "id": "Lxl75h-kx9rR",
        "outputId": "1b179e85-caa1-41b2-b4ec-ff990e7e4ac6"
      },
      "source": [
        "bitcoin_1_day_data.describe().transpose()"
      ],
      "execution_count": null,
      "outputs": [
        {
          "output_type": "execute_result",
          "data": {
            "text/html": [
              "<div>\n",
              "<style scoped>\n",
              "    .dataframe tbody tr th:only-of-type {\n",
              "        vertical-align: middle;\n",
              "    }\n",
              "\n",
              "    .dataframe tbody tr th {\n",
              "        vertical-align: top;\n",
              "    }\n",
              "\n",
              "    .dataframe thead th {\n",
              "        text-align: right;\n",
              "    }\n",
              "</style>\n",
              "<table border=\"1\" class=\"dataframe\">\n",
              "  <thead>\n",
              "    <tr style=\"text-align: right;\">\n",
              "      <th></th>\n",
              "      <th>count</th>\n",
              "      <th>mean</th>\n",
              "      <th>std</th>\n",
              "      <th>min</th>\n",
              "      <th>25%</th>\n",
              "      <th>50%</th>\n",
              "      <th>75%</th>\n",
              "      <th>max</th>\n",
              "    </tr>\n",
              "  </thead>\n",
              "  <tbody>\n",
              "    <tr>\n",
              "      <th>open</th>\n",
              "      <td>37568.0</td>\n",
              "      <td>1.687740e+04</td>\n",
              "      <td>1.692789e+04</td>\n",
              "      <td>2870.9</td>\n",
              "      <td>6.693243e+03</td>\n",
              "      <td>9.224785e+03</td>\n",
              "      <td>1.643999e+04</td>\n",
              "      <td>6.863512e+04</td>\n",
              "    </tr>\n",
              "    <tr>\n",
              "      <th>high</th>\n",
              "      <td>37568.0</td>\n",
              "      <td>1.698188e+04</td>\n",
              "      <td>1.703116e+04</td>\n",
              "      <td>2950.0</td>\n",
              "      <td>6.721198e+03</td>\n",
              "      <td>9.259025e+03</td>\n",
              "      <td>1.661062e+04</td>\n",
              "      <td>6.900000e+04</td>\n",
              "    </tr>\n",
              "    <tr>\n",
              "      <th>low</th>\n",
              "      <td>37568.0</td>\n",
              "      <td>1.676488e+04</td>\n",
              "      <td>1.681737e+04</td>\n",
              "      <td>2817.0</td>\n",
              "      <td>6.660663e+03</td>\n",
              "      <td>9.185080e+03</td>\n",
              "      <td>1.630000e+04</td>\n",
              "      <td>6.845119e+04</td>\n",
              "    </tr>\n",
              "    <tr>\n",
              "      <th>close</th>\n",
              "      <td>37568.0</td>\n",
              "      <td>1.687855e+04</td>\n",
              "      <td>1.692852e+04</td>\n",
              "      <td>2919.0</td>\n",
              "      <td>6.694083e+03</td>\n",
              "      <td>9.224840e+03</td>\n",
              "      <td>1.644150e+04</td>\n",
              "      <td>6.863369e+04</td>\n",
              "    </tr>\n",
              "    <tr>\n",
              "      <th>volume</th>\n",
              "      <td>37568.0</td>\n",
              "      <td>2.115986e+03</td>\n",
              "      <td>2.192099e+03</td>\n",
              "      <td>0.0</td>\n",
              "      <td>9.216842e+02</td>\n",
              "      <td>1.549974e+03</td>\n",
              "      <td>2.592585e+03</td>\n",
              "      <td>4.725576e+04</td>\n",
              "    </tr>\n",
              "    <tr>\n",
              "      <th>quote_asset_volume</th>\n",
              "      <td>37568.0</td>\n",
              "      <td>4.304475e+07</td>\n",
              "      <td>7.106650e+07</td>\n",
              "      <td>0.0</td>\n",
              "      <td>6.970935e+06</td>\n",
              "      <td>1.483241e+07</td>\n",
              "      <td>4.920212e+07</td>\n",
              "      <td>1.514465e+09</td>\n",
              "    </tr>\n",
              "    <tr>\n",
              "      <th>number_of_trades</th>\n",
              "      <td>37568.0</td>\n",
              "      <td>3.133194e+04</td>\n",
              "      <td>3.780960e+04</td>\n",
              "      <td>0.0</td>\n",
              "      <td>7.846000e+03</td>\n",
              "      <td>1.708750e+04</td>\n",
              "      <td>4.224350e+04</td>\n",
              "      <td>7.992060e+05</td>\n",
              "    </tr>\n",
              "    <tr>\n",
              "      <th>taker_buy_base_asset_volume</th>\n",
              "      <td>37568.0</td>\n",
              "      <td>1.054088e+03</td>\n",
              "      <td>1.074575e+03</td>\n",
              "      <td>0.0</td>\n",
              "      <td>4.720572e+02</td>\n",
              "      <td>7.798739e+02</td>\n",
              "      <td>1.290401e+03</td>\n",
              "      <td>2.062879e+04</td>\n",
              "    </tr>\n",
              "    <tr>\n",
              "      <th>taker_buy_quote_asset_volume</th>\n",
              "      <td>37568.0</td>\n",
              "      <td>2.127792e+07</td>\n",
              "      <td>3.496107e+07</td>\n",
              "      <td>0.0</td>\n",
              "      <td>3.583444e+06</td>\n",
              "      <td>7.468385e+06</td>\n",
              "      <td>2.394153e+07</td>\n",
              "      <td>6.849674e+08</td>\n",
              "    </tr>\n",
              "    <tr>\n",
              "      <th>ignore</th>\n",
              "      <td>37568.0</td>\n",
              "      <td>1.616306e+03</td>\n",
              "      <td>7.001470e+03</td>\n",
              "      <td>0.0</td>\n",
              "      <td>0.000000e+00</td>\n",
              "      <td>0.000000e+00</td>\n",
              "      <td>0.000000e+00</td>\n",
              "      <td>7.992062e+04</td>\n",
              "    </tr>\n",
              "  </tbody>\n",
              "</table>\n",
              "</div>"
            ],
            "text/plain": [
              "                                count          mean  ...           75%           max\n",
              "open                          37568.0  1.687740e+04  ...  1.643999e+04  6.863512e+04\n",
              "high                          37568.0  1.698188e+04  ...  1.661062e+04  6.900000e+04\n",
              "low                           37568.0  1.676488e+04  ...  1.630000e+04  6.845119e+04\n",
              "close                         37568.0  1.687855e+04  ...  1.644150e+04  6.863369e+04\n",
              "volume                        37568.0  2.115986e+03  ...  2.592585e+03  4.725576e+04\n",
              "quote_asset_volume            37568.0  4.304475e+07  ...  4.920212e+07  1.514465e+09\n",
              "number_of_trades              37568.0  3.133194e+04  ...  4.224350e+04  7.992060e+05\n",
              "taker_buy_base_asset_volume   37568.0  1.054088e+03  ...  1.290401e+03  2.062879e+04\n",
              "taker_buy_quote_asset_volume  37568.0  2.127792e+07  ...  2.394153e+07  6.849674e+08\n",
              "ignore                        37568.0  1.616306e+03  ...  0.000000e+00  7.992062e+04\n",
              "\n",
              "[10 rows x 8 columns]"
            ]
          },
          "metadata": {},
          "execution_count": 43
        }
      ]
    },
    {
      "cell_type": "code",
      "metadata": {
        "id": "5qAU1v6s4Tfc",
        "colab": {
          "base_uri": "https://localhost:8080/",
          "height": 105
        },
        "outputId": "5f967541-2960-4e6d-f7bb-5a287208001e"
      },
      "source": [
        "'''\n",
        "google_trends_list = ['bitcoin chart',\n",
        " 'bitcoin dollar',\n",
        " 'bitcoin dolar',\n",
        " 'bitcoin news',\n",
        " 'bitcoin mining',\n",
        " 'btc',\n",
        " 'bitcoin usd',\n",
        " 'bitcoin',\n",
        " 'bitcoin to usd',\n",
        " 'bitcoin price usd',\n",
        " 'bitcoin stock',\n",
        " 'bitcoin wallet',\n",
        " 'bitcoin value',\n",
        " 'cryptocurrency',\n",
        " 'coinbase',\n",
        " 'miner',\n",
        " 'price bitcoin',\n",
        " 'sell bitcoin',\n",
        " 'sell btc',\n",
        " 'what is bitcoin',\n",
        " 'buy bitcoin']\n",
        "# download daily trends data\n",
        "from pytrends import dailydata\n",
        "for topic in google_trends_list:\n",
        "  print(topic)\n",
        "  dailydata.get_daily_data(topic, 2017, 8, 2021, 12, geo = '').to_csv(\"google trends data/\"+topic+'.csv')\n",
        "'''"
      ],
      "execution_count": null,
      "outputs": [
        {
          "output_type": "execute_result",
          "data": {
            "application/vnd.google.colaboratory.intrinsic+json": {
              "type": "string"
            },
            "text/plain": [
              "'\\ngoogle_trends_list = [\\'bitcoin chart\\',\\n \\'bitcoin dollar\\',\\n \\'bitcoin dolar\\',\\n \\'bitcoin news\\',\\n \\'bitcoin mining\\',\\n \\'btc\\',\\n \\'bitcoin usd\\',\\n \\'bitcoin\\',\\n \\'bitcoin to usd\\',\\n \\'bitcoin price usd\\',\\n \\'bitcoin stock\\',\\n \\'bitcoin wallet\\',\\n \\'bitcoin value\\',\\n \\'cryptocurrency\\',\\n \\'coinbase\\',\\n \\'miner\\',\\n \\'price bitcoin\\',\\n \\'sell bitcoin\\',\\n \\'sell btc\\',\\n \\'what is bitcoin\\',\\n \\'buy bitcoin\\']\\n# download daily trends data\\nfrom pytrends import dailydata\\nfor topic in google_trends_list:\\n  print(topic)\\n  dailydata.get_daily_data(topic, 2017, 8, 2021, 12, geo = \\'\\').to_csv(\"google trends data/\"+topic+\\'.csv\\')\\n'"
            ]
          },
          "metadata": {},
          "execution_count": 44
        }
      ]
    },
    {
      "cell_type": "code",
      "source": [
        "'''google_trends_dataframe = pd.DataFrame()\n",
        "google_trends_list = ['buy bitcoin','sell bitcoin']\n",
        "for keyword in google_trends_list:\n",
        "  if not len(google_trends_dataframe):\n",
        "    google_trends_dataframe = pd.read_csv(\"google trends data/\"+keyword+'.csv')[['date',keyword]]\n",
        "  if len(google_trends_dataframe):\n",
        "    google_trends_dataframe = pd.merge(google_trends_dataframe,pd.read_csv(\"google trends data/\"+keyword+'.csv')[['date',keyword]])\n",
        "merged_dataframe = pd.merge(bitcoin_1_day_data,google_trends_dataframe,left_on='open_time',right_on='date',how='outer')\n",
        "merged_dataframe.drop(columns=['date'],inplace=True)'''"
      ],
      "metadata": {
        "id": "ZpxdVLKPOCxx",
        "colab": {
          "base_uri": "https://localhost:8080/",
          "height": 105
        },
        "outputId": "c29921e8-4f0e-4e62-e647-97c0f02b2778"
      },
      "execution_count": null,
      "outputs": [
        {
          "output_type": "execute_result",
          "data": {
            "application/vnd.google.colaboratory.intrinsic+json": {
              "type": "string"
            },
            "text/plain": [
              "'google_trends_dataframe = pd.DataFrame()\\ngoogle_trends_list = [\\'buy bitcoin\\',\\'sell bitcoin\\']\\nfor keyword in google_trends_list:\\n  if not len(google_trends_dataframe):\\n    google_trends_dataframe = pd.read_csv(\"google trends data/\"+keyword+\\'.csv\\')[[\\'date\\',keyword]]\\n  if len(google_trends_dataframe):\\n    google_trends_dataframe = pd.merge(google_trends_dataframe,pd.read_csv(\"google trends data/\"+keyword+\\'.csv\\')[[\\'date\\',keyword]])\\nmerged_dataframe = pd.merge(bitcoin_1_day_data,google_trends_dataframe,left_on=\\'open_time\\',right_on=\\'date\\',how=\\'outer\\')\\nmerged_dataframe.drop(columns=[\\'date\\'],inplace=True)'"
            ]
          },
          "metadata": {},
          "execution_count": 45
        }
      ]
    },
    {
      "cell_type": "code",
      "metadata": {
        "colab": {
          "base_uri": "https://localhost:8080/",
          "height": 140
        },
        "id": "XfoZksim6A8l",
        "outputId": "e8f78e62-1913-45e9-d4e7-8a0aa5f19201"
      },
      "source": [
        "'''\n",
        "#to download the google trends hourly data\n",
        "google_trends_list = ['buy bitcoin','sell bitcoin']\n",
        "from pytrends.request import TrendReq\n",
        "\n",
        "pytrends = TrendReq(hl='en-US', tz=360)\n",
        "\n",
        "pytrends.get_historical_interest(google_trends_list, year_start=2017,month_start=8, \n",
        "                                 day_start=1,hour_start=0, year_end=2017,month_end=12, day_end=31, hour_end=23,cat=0, geo='', gprop='', sleep=0).to_csv('hourly_trends_data_2017.csv')                       \n",
        "pytrends.get_historical_interest(google_trends_list, year_start=2018,month_start=1, \n",
        "                                 day_start=1,hour_start=0, year_end=2018,month_end=12,day_end=31, hour_end=23,cat=0, geo='', gprop='', sleep=0).to_csv('hourly_trends_data_2018.csv')\n",
        "pytrends.get_historical_interest(google_trends_list, year_start=2019,month_start=1, \n",
        "                                 day_start=1,hour_start=0, year_end=2019,month_end=12, day_end=31, hour_end=23,cat=0, geo='', gprop='', sleep=0).to_csv('hourly_trends_data_2019.csv')\n",
        "pytrends.get_historical_interest(google_trends_list, year_start=2020,month_start=1, \n",
        "                                 day_start=1,hour_start=0, year_end=2020,month_end=12, day_end=31, hour_end=23,cat=0, geo='', gprop='', sleep=0).to_csv('hourly_trends_data_2020.csv')\n",
        "\n",
        "pytrends.get_historical_interest(google_trends_list, year_start=2021,month_start=1, \n",
        "                                 day_start=1,hour_start=0, year_end=2021,month_end=12, day_end=31, hour_end=23,cat=0, geo='', gprop='', sleep=0).to_csv('hourly_trends_data_2021.csv')                                                                                                                                    \n",
        "'''                      "
      ],
      "execution_count": null,
      "outputs": [
        {
          "output_type": "execute_result",
          "data": {
            "application/vnd.google.colaboratory.intrinsic+json": {
              "type": "string"
            },
            "text/plain": [
              "\"\\n#to download the google trends hourly data\\ngoogle_trends_list = ['buy bitcoin','sell bitcoin']\\nfrom pytrends.request import TrendReq\\n\\npytrends = TrendReq(hl='en-US', tz=360)\\n\\npytrends.get_historical_interest(google_trends_list, year_start=2017,month_start=8, \\n                                 day_start=1,hour_start=0, year_end=2017,month_end=12, day_end=31, hour_end=23,cat=0, geo='', gprop='', sleep=0).to_csv('hourly_trends_data_2017.csv')                       \\npytrends.get_historical_interest(google_trends_list, year_start=2018,month_start=1, \\n                                 day_start=1,hour_start=0, year_end=2018,month_end=12,day_end=31, hour_end=23,cat=0, geo='', gprop='', sleep=0).to_csv('hourly_trends_data_2018.csv')\\npytrends.get_historical_interest(google_trends_list, year_start=2019,month_start=1, \\n                                 day_start=1,hour_start=0, year_end=2019,month_end=12, day_end=31, hour_end=23,cat=0, geo='', gprop='', sleep=0).to_csv('hourly_trends_data_2019.csv')\\npytrends.get_historical_interest(google_trends_list, year_start=2020,month_start=1, \\n                                 day_start=1,hour_start=0, year_end=2020,month_end=12, day_end=31, hour_end=23,cat=0, geo='', gprop='', sleep=0).to_csv('hourly_trends_data_2020.csv')\\n\\npytrends.get_historical_interest(google_trends_list, year_start=2021,month_start=1, \\n                                 day_start=1,hour_start=0, year_end=2021,month_end=12, day_end=31, hour_end=23,cat=0, geo='', gprop='', sleep=0).to_csv('hourly_trends_data_2021.csv')                                                                                                                                    \\n\""
            ]
          },
          "metadata": {},
          "execution_count": 46
        }
      ]
    },
    {
      "cell_type": "code",
      "metadata": {
        "id": "EDymOH2wXa8C"
      },
      "source": [
        "google_trends_dataframe = []\n",
        "for file in os.listdir('/content/drive/MyDrive/Data Mining/google trends hourly data/'):\n",
        "  if file[:19] == \"hourly_trends_data_\":\n",
        "    if len(google_trends_dataframe)==0:\n",
        "      google_trends_dataframe.append(pd.read_csv('/content/drive/MyDrive/Data Mining/google trends hourly data/'+file))\n",
        "    else:\n",
        "      google_trends_dataframe.append(pd.read_csv('/content/drive/MyDrive/Data Mining/google trends hourly data/'+file))\n",
        "google_trends_dataframe = pd.concat(google_trends_dataframe)\n",
        "google_trends_dataframe.dropna(inplace=True)\n",
        "google_trends_dataframe.drop(columns=['isPartial'],inplace=True)\n",
        "bitcoin_1_day_data['open_time'] = bitcoin_1_day_data['open_time'].apply(lambda x:x[:-4])\n",
        "merged_dataframe = pd.merge(bitcoin_1_day_data,google_trends_dataframe,left_on='open_time',right_on='date',how='inner')\n",
        "merged_dataframe.drop(columns=['date'],inplace=True)"
      ],
      "execution_count": null,
      "outputs": []
    },
    {
      "cell_type": "code",
      "source": [
        "merged_dataframe.dropna(inplace=True)"
      ],
      "metadata": {
        "id": "Ue2VbaDKAygQ"
      },
      "execution_count": null,
      "outputs": []
    },
    {
      "cell_type": "code",
      "source": [
        "merged_dataframe['close']=merged_dataframe['close']>merged_dataframe['open']"
      ],
      "metadata": {
        "id": "lGQCfhiHDDeP"
      },
      "execution_count": null,
      "outputs": []
    },
    {
      "cell_type": "code",
      "source": [
        "merged_dataframe.head()"
      ],
      "metadata": {
        "colab": {
          "base_uri": "https://localhost:8080/",
          "height": 417
        },
        "id": "SnR1Hf7EKCKu",
        "outputId": "10a07d61-ccdf-4eda-d75f-f3bfc6e08754"
      },
      "execution_count": null,
      "outputs": [
        {
          "output_type": "execute_result",
          "data": {
            "text/html": [
              "<div>\n",
              "<style scoped>\n",
              "    .dataframe tbody tr th:only-of-type {\n",
              "        vertical-align: middle;\n",
              "    }\n",
              "\n",
              "    .dataframe tbody tr th {\n",
              "        vertical-align: top;\n",
              "    }\n",
              "\n",
              "    .dataframe thead th {\n",
              "        text-align: right;\n",
              "    }\n",
              "</style>\n",
              "<table border=\"1\" class=\"dataframe\">\n",
              "  <thead>\n",
              "    <tr style=\"text-align: right;\">\n",
              "      <th></th>\n",
              "      <th>open_time</th>\n",
              "      <th>open</th>\n",
              "      <th>high</th>\n",
              "      <th>low</th>\n",
              "      <th>close</th>\n",
              "      <th>volume</th>\n",
              "      <th>quote_asset_volume</th>\n",
              "      <th>number_of_trades</th>\n",
              "      <th>taker_buy_base_asset_volume</th>\n",
              "      <th>taker_buy_quote_asset_volume</th>\n",
              "      <th>ignore</th>\n",
              "      <th>buy bitcoin</th>\n",
              "      <th>sell bitcoin</th>\n",
              "    </tr>\n",
              "  </thead>\n",
              "  <tbody>\n",
              "    <tr>\n",
              "      <th>0</th>\n",
              "      <td>2017-08-17 04:00:00</td>\n",
              "      <td>4261.48</td>\n",
              "      <td>4313.62</td>\n",
              "      <td>4261.32</td>\n",
              "      <td>True</td>\n",
              "      <td>47.181009</td>\n",
              "      <td>202366.138393</td>\n",
              "      <td>171</td>\n",
              "      <td>35.160503</td>\n",
              "      <td>150952.477943</td>\n",
              "      <td>7887.635513</td>\n",
              "      <td>62</td>\n",
              "      <td>7</td>\n",
              "    </tr>\n",
              "    <tr>\n",
              "      <th>1</th>\n",
              "      <td>2017-08-17 05:00:00</td>\n",
              "      <td>4308.83</td>\n",
              "      <td>4328.69</td>\n",
              "      <td>4291.37</td>\n",
              "      <td>True</td>\n",
              "      <td>23.234916</td>\n",
              "      <td>100304.823567</td>\n",
              "      <td>102</td>\n",
              "      <td>21.448071</td>\n",
              "      <td>92608.279728</td>\n",
              "      <td>8039.262402</td>\n",
              "      <td>57</td>\n",
              "      <td>10</td>\n",
              "    </tr>\n",
              "    <tr>\n",
              "      <th>2</th>\n",
              "      <td>2017-08-17 06:00:00</td>\n",
              "      <td>4330.29</td>\n",
              "      <td>4345.45</td>\n",
              "      <td>4309.37</td>\n",
              "      <td>False</td>\n",
              "      <td>7.229691</td>\n",
              "      <td>31282.312670</td>\n",
              "      <td>36</td>\n",
              "      <td>4.802861</td>\n",
              "      <td>20795.317224</td>\n",
              "      <td>8041.760498</td>\n",
              "      <td>49</td>\n",
              "      <td>8</td>\n",
              "    </tr>\n",
              "    <tr>\n",
              "      <th>3</th>\n",
              "      <td>2017-08-17 07:00:00</td>\n",
              "      <td>4316.62</td>\n",
              "      <td>4349.99</td>\n",
              "      <td>4287.41</td>\n",
              "      <td>True</td>\n",
              "      <td>4.443249</td>\n",
              "      <td>19241.058300</td>\n",
              "      <td>25</td>\n",
              "      <td>2.602292</td>\n",
              "      <td>11291.347015</td>\n",
              "      <td>8048.127886</td>\n",
              "      <td>45</td>\n",
              "      <td>6</td>\n",
              "    </tr>\n",
              "    <tr>\n",
              "      <th>4</th>\n",
              "      <td>2017-08-17 08:00:00</td>\n",
              "      <td>4333.32</td>\n",
              "      <td>4377.85</td>\n",
              "      <td>4333.32</td>\n",
              "      <td>True</td>\n",
              "      <td>0.972807</td>\n",
              "      <td>4239.503586</td>\n",
              "      <td>28</td>\n",
              "      <td>0.814655</td>\n",
              "      <td>3552.746817</td>\n",
              "      <td>8018.036500</td>\n",
              "      <td>44</td>\n",
              "      <td>7</td>\n",
              "    </tr>\n",
              "  </tbody>\n",
              "</table>\n",
              "</div>"
            ],
            "text/plain": [
              "             open_time     open  ...  buy bitcoin  sell bitcoin\n",
              "0  2017-08-17 04:00:00  4261.48  ...           62             7\n",
              "1  2017-08-17 05:00:00  4308.83  ...           57            10\n",
              "2  2017-08-17 06:00:00  4330.29  ...           49             8\n",
              "3  2017-08-17 07:00:00  4316.62  ...           45             6\n",
              "4  2017-08-17 08:00:00  4333.32  ...           44             7\n",
              "\n",
              "[5 rows x 13 columns]"
            ]
          },
          "metadata": {},
          "execution_count": 50
        }
      ]
    },
    {
      "cell_type": "code",
      "metadata": {
        "id": "tg5dEvgo0eut"
      },
      "source": [
        "n = len(merged_dataframe)\n",
        "training_set = merged_dataframe.iloc[0:int(n*0.7),1:].values\n",
        "test_set = merged_dataframe.iloc[int(n*0.7):,1:].values\n",
        "num_features = training_set.shape[1]"
      ],
      "execution_count": null,
      "outputs": []
    },
    {
      "cell_type": "code",
      "metadata": {
        "colab": {
          "base_uri": "https://localhost:8080/"
        },
        "id": "jbeZYtO71IVA",
        "outputId": "aca7364b-0126-42bf-803c-a0942c91fa3c"
      },
      "source": [
        "# Feature Scaling\n",
        "sc = MinMaxScaler(feature_range = (0, 1))\n",
        "print(sc.fit(training_set))\n",
        "training_set_scaled = sc.transform(training_set)\n",
        "# Creating a data structure with 60 time-steps and 1 output\n",
        "X_train = []\n",
        "y_train = []\n",
        "for i in range(60, len(training_set)):\n",
        "    X_train.append(training_set_scaled[i-60:i,:])\n",
        "    y_train.append(training_set_scaled[i,3])\n",
        "X_train, y_train = tf.convert_to_tensor(X_train), tf.convert_to_tensor(y_train)"
      ],
      "execution_count": null,
      "outputs": [
        {
          "output_type": "stream",
          "name": "stdout",
          "text": [
            "MinMaxScaler()\n"
          ]
        }
      ]
    },
    {
      "cell_type": "code",
      "metadata": {
        "id": "JCwVlL4RfIpF"
      },
      "source": [
        "test_set_scaled = sc.transform(test_set)\n",
        "X_test = []\n",
        "y_test = []\n",
        "for i in range(60, len(test_set)):\n",
        "    X_test.append(test_set_scaled[i-60:i, :])\n",
        "    y_test.append(test_set_scaled[i,3])\n",
        "X_test,y_test = tf.convert_to_tensor(X_test), tf.convert_to_tensor(y_test)"
      ],
      "execution_count": null,
      "outputs": []
    },
    {
      "cell_type": "code",
      "source": [
        "# Compiling the RNN linear\n",
        "def compile_and_fit(model, X_train, y_train):\n",
        "  callback = tf.keras.callbacks.EarlyStopping(monitor='loss', patience=3)\n",
        "  model.compile(optimizer = 'adam', loss = 'mean_squared_error')\n",
        "  history = model.fit(X_train, y_train, epochs = 100, batch_size = 32, callbacks=[callback])\n",
        "  return history\n",
        "\n",
        "\n",
        "def compile_and_fit_log(model, X_train, y_train):\n",
        "  callback = tf.keras.callbacks.EarlyStopping(monitor='loss', patience=3)\n",
        "  '''\n",
        "  model.compile(optimizer='adam',\n",
        "              loss=tf.keras.losses.SparseCategoricalCrossentropy(from_logits=True),\n",
        "              metrics=['accuracy'])\n",
        "  '''\n",
        "  model.compile(optimizer='adam',\n",
        "              loss=tf.keras.losses.BinaryCrossentropy(from_logits=True),\n",
        "              metrics=['accuracy'])\n",
        "  \n",
        "  history = model.fit(X_train, y_train, epochs = 100, batch_size = 32, callbacks=[callback])\n",
        "  return history"
      ],
      "metadata": {
        "id": "mbW7C9jCvFvb"
      },
      "execution_count": null,
      "outputs": []
    },
    {
      "cell_type": "code",
      "metadata": {
        "colab": {
          "base_uri": "https://localhost:8080/"
        },
        "id": "kFcceIs81bJD",
        "outputId": "daea4dae-4989-403a-f6b0-d673a95c8dda"
      },
      "source": [
        "google_trends_model = Sequential()\n",
        "google_trends_model.add(LSTM(units = 60, return_sequences = True, input_shape = (X_train.shape[1], num_features)))\n",
        "google_trends_model.add(Dropout(0.2))\n",
        "google_trends_model.add(LSTM(units = 120, return_sequences = True))\n",
        "google_trends_model.add(Dropout(0.2))\n",
        "google_trends_model.add(LSTM(units = 60))\n",
        "google_trends_model.add(Dropout(0.2))\n",
        "'''\n",
        "google_trends_model.add(Dense(units = 1))\n",
        "google_trends_model.add(Activation('linear'))\n",
        "history = compile_and_fit(google_trends_model,X_train, y_train)\n",
        "google_trends_model.save('my_model_with_1d_google_trends_price_prediction')\n",
        "'''\n",
        "google_trends_model.add(Dense(units = 1))\n",
        "history = compile_and_fit_log(google_trends_model,X_train, y_train)\n",
        "google_trends_model.save('my_model_with_1h_google_trends_price_change')\n",
        "model = Sequential()\n",
        "model.add(LSTM(units = 60, return_sequences = True, input_shape = (X_train.shape[1], num_features-2)))\n",
        "model.add(Dropout(0.2))\n",
        "model.add(LSTM(units = 120, return_sequences = True))\n",
        "model.add(Dropout(0.2))\n",
        "model.add(LSTM(units = 60))\n",
        "model.add(Dropout(0.2))\n",
        "'''\n",
        "model.add(Dense(units = 1))\n",
        "model.add(Activation('linear'))\n",
        "history = compile_and_fit(model,X_train[:,:,:-2], y_train)\n",
        "model.save('my_model_with_1d_without_google_trends_price_prediction')\n",
        "'''\n",
        "model.add(Dense(units = 1))\n",
        "history = compile_and_fit_log(model,X_train[:,:,:-2], y_train)\n",
        "model.save('my_model_with_1h_without_google_trends_price_change')"
      ],
      "execution_count": null,
      "outputs": [
        {
          "output_type": "stream",
          "name": "stdout",
          "text": [
            "Epoch 1/100\n",
            "758/758 [==============================] - 81s 100ms/step - loss: 0.6932 - accuracy: 0.4874\n",
            "Epoch 2/100\n",
            "758/758 [==============================] - 78s 103ms/step - loss: 0.6918 - accuracy: 0.4873\n",
            "Epoch 3/100\n",
            "758/758 [==============================] - 81s 107ms/step - loss: 0.6883 - accuracy: 0.4896\n",
            "Epoch 4/100\n",
            "758/758 [==============================] - 86s 114ms/step - loss: 0.6875 - accuracy: 0.4901\n",
            "Epoch 5/100\n",
            "758/758 [==============================] - 91s 120ms/step - loss: 0.6870 - accuracy: 0.4896\n",
            "Epoch 6/100\n",
            "758/758 [==============================] - 88s 116ms/step - loss: 0.6867 - accuracy: 0.4921\n",
            "Epoch 7/100\n",
            "758/758 [==============================] - 89s 118ms/step - loss: 0.6873 - accuracy: 0.4903\n",
            "Epoch 8/100\n",
            "758/758 [==============================] - 93s 123ms/step - loss: 0.6865 - accuracy: 0.4914\n",
            "Epoch 9/100\n",
            "758/758 [==============================] - 90s 118ms/step - loss: 0.6867 - accuracy: 0.4936\n",
            "Epoch 10/100\n",
            "758/758 [==============================] - 88s 117ms/step - loss: 0.6865 - accuracy: 0.4923\n",
            "Epoch 11/100\n",
            "758/758 [==============================] - 89s 118ms/step - loss: 0.6867 - accuracy: 0.4919\n"
          ]
        },
        {
          "output_type": "stream",
          "name": "stderr",
          "text": [
            "WARNING:absl:Found untraced functions such as lstm_cell_12_layer_call_fn, lstm_cell_12_layer_call_and_return_conditional_losses, lstm_cell_13_layer_call_fn, lstm_cell_13_layer_call_and_return_conditional_losses, lstm_cell_14_layer_call_fn while saving (showing 5 of 15). These functions will not be directly callable after loading.\n"
          ]
        },
        {
          "output_type": "stream",
          "name": "stdout",
          "text": [
            "INFO:tensorflow:Assets written to: my_model_with_1h_google_trends_price_change/assets\n"
          ]
        },
        {
          "output_type": "stream",
          "name": "stderr",
          "text": [
            "INFO:tensorflow:Assets written to: my_model_with_1h_google_trends_price_change/assets\n",
            "WARNING:absl:<keras.layers.recurrent.LSTMCell object at 0x7f2f0979f7d0> has the same name 'LSTMCell' as a built-in Keras object. Consider renaming <class 'keras.layers.recurrent.LSTMCell'> to avoid naming conflicts when loading with `tf.keras.models.load_model`. If renaming is not possible, pass the object in the `custom_objects` parameter of the load function.\n",
            "WARNING:absl:<keras.layers.recurrent.LSTMCell object at 0x7f2f04bd8810> has the same name 'LSTMCell' as a built-in Keras object. Consider renaming <class 'keras.layers.recurrent.LSTMCell'> to avoid naming conflicts when loading with `tf.keras.models.load_model`. If renaming is not possible, pass the object in the `custom_objects` parameter of the load function.\n",
            "WARNING:absl:<keras.layers.recurrent.LSTMCell object at 0x7f2f04be21d0> has the same name 'LSTMCell' as a built-in Keras object. Consider renaming <class 'keras.layers.recurrent.LSTMCell'> to avoid naming conflicts when loading with `tf.keras.models.load_model`. If renaming is not possible, pass the object in the `custom_objects` parameter of the load function.\n"
          ]
        },
        {
          "output_type": "stream",
          "name": "stdout",
          "text": [
            "Epoch 1/100\n",
            "758/758 [==============================] - 91s 113ms/step - loss: 0.6931 - accuracy: 0.4875\n",
            "Epoch 2/100\n",
            "758/758 [==============================] - 85s 113ms/step - loss: 0.6918 - accuracy: 0.4874\n",
            "Epoch 3/100\n",
            "758/758 [==============================] - 86s 113ms/step - loss: 0.6881 - accuracy: 0.4895\n",
            "Epoch 4/100\n",
            "758/758 [==============================] - 82s 108ms/step - loss: 0.6876 - accuracy: 0.4911\n",
            "Epoch 5/100\n",
            "758/758 [==============================] - 81s 107ms/step - loss: 0.6871 - accuracy: 0.4901\n",
            "Epoch 6/100\n",
            "758/758 [==============================] - 81s 106ms/step - loss: 0.6869 - accuracy: 0.4927\n",
            "Epoch 7/100\n",
            "758/758 [==============================] - 80s 106ms/step - loss: 0.6868 - accuracy: 0.4918\n",
            "Epoch 8/100\n",
            "758/758 [==============================] - 78s 103ms/step - loss: 0.6866 - accuracy: 0.4905\n",
            "Epoch 9/100\n",
            "758/758 [==============================] - 78s 102ms/step - loss: 0.6867 - accuracy: 0.4915\n",
            "Epoch 10/100\n",
            "758/758 [==============================] - 81s 107ms/step - loss: 0.6866 - accuracy: 0.4913\n",
            "Epoch 11/100\n",
            "758/758 [==============================] - 84s 110ms/step - loss: 0.6866 - accuracy: 0.4925\n"
          ]
        },
        {
          "output_type": "stream",
          "name": "stderr",
          "text": [
            "WARNING:absl:Found untraced functions such as lstm_cell_15_layer_call_fn, lstm_cell_15_layer_call_and_return_conditional_losses, lstm_cell_16_layer_call_fn, lstm_cell_16_layer_call_and_return_conditional_losses, lstm_cell_17_layer_call_fn while saving (showing 5 of 15). These functions will not be directly callable after loading.\n"
          ]
        },
        {
          "output_type": "stream",
          "name": "stdout",
          "text": [
            "INFO:tensorflow:Assets written to: my_model_with_1h_without_google_trends_price_change/assets\n"
          ]
        },
        {
          "output_type": "stream",
          "name": "stderr",
          "text": [
            "INFO:tensorflow:Assets written to: my_model_with_1h_without_google_trends_price_change/assets\n",
            "WARNING:absl:<keras.layers.recurrent.LSTMCell object at 0x7f2f1b81b310> has the same name 'LSTMCell' as a built-in Keras object. Consider renaming <class 'keras.layers.recurrent.LSTMCell'> to avoid naming conflicts when loading with `tf.keras.models.load_model`. If renaming is not possible, pass the object in the `custom_objects` parameter of the load function.\n",
            "WARNING:absl:<keras.layers.recurrent.LSTMCell object at 0x7f2f196cac90> has the same name 'LSTMCell' as a built-in Keras object. Consider renaming <class 'keras.layers.recurrent.LSTMCell'> to avoid naming conflicts when loading with `tf.keras.models.load_model`. If renaming is not possible, pass the object in the `custom_objects` parameter of the load function.\n",
            "WARNING:absl:<keras.layers.recurrent.LSTMCell object at 0x7f2f04b64d90> has the same name 'LSTMCell' as a built-in Keras object. Consider renaming <class 'keras.layers.recurrent.LSTMCell'> to avoid naming conflicts when loading with `tf.keras.models.load_model`. If renaming is not possible, pass the object in the `custom_objects` parameter of the load function.\n"
          ]
        }
      ]
    },
    {
      "cell_type": "code",
      "source": [
        "#logistic 1 hour data\n",
        "test_loss, test_acc = model.evaluate(X_test[:,:,:-2],  y_test, verbose=2)\n",
        "test_loss, test_acc = google_trends_model.evaluate(X_test,  y_test, verbose=2)"
      ],
      "metadata": {
        "colab": {
          "base_uri": "https://localhost:8080/"
        },
        "id": "54kYdXanFjsk",
        "outputId": "38852bb0-a2d1-41fc-c4a5-dbe14fa3bd98"
      },
      "execution_count": null,
      "outputs": [
        {
          "output_type": "stream",
          "name": "stdout",
          "text": [
            "324/324 - 11s - loss: 0.6930 - accuracy: 0.4918 - 11s/epoch - 33ms/step\n",
            "324/324 - 11s - loss: 0.7041 - accuracy: 0.4917 - 11s/epoch - 32ms/step\n"
          ]
        }
      ]
    },
    {
      "cell_type": "code",
      "source": [
        "bitcoin_1_day_data = pd.read_csv('BTC-USDT-1d.csv')\n",
        "bitcoin_1_day_data.drop(columns = ['close_time'],inplace=True)\n",
        "bitcoin_1_day_data['open_time'] = pd.to_datetime(bitcoin_1_day_data['open_time'],unit='ms').astype('str')\n",
        "google_trends_dataframe = pd.DataFrame()\n",
        "google_trends_list = ['buy bitcoin','sell bitcoin']\n",
        "for keyword in google_trends_list:\n",
        "  if not len(google_trends_dataframe):\n",
        "    google_trends_dataframe = pd.read_csv(\"google trends data/\"+keyword+'.csv')[['date',keyword]]\n",
        "  if len(google_trends_dataframe):\n",
        "    google_trends_dataframe = pd.merge(google_trends_dataframe,pd.read_csv(\"google trends data/\"+keyword+'.csv')[['date',keyword]])\n",
        "merged_dataframe = pd.merge(bitcoin_1_day_data,google_trends_dataframe,left_on='open_time',right_on='date',how='outer')\n",
        "merged_dataframe.drop(columns=['date'],inplace=True)\n",
        "merged_dataframe.dropna(inplace=True)\n",
        "merged_dataframe['close']=merged_dataframe['close']>merged_dataframe['open']\n",
        "n = len(merged_dataframe)\n",
        "training_set = merged_dataframe.iloc[0:int(n*0.7),1:].values\n",
        "test_set = merged_dataframe.iloc[int(n*0.7):,1:].values\n",
        "num_features = training_set.shape[1]\n",
        "# Feature Scaling\n",
        "sc = MinMaxScaler(feature_range = (0, 1))\n",
        "print(sc.fit(training_set))\n",
        "training_set_scaled = sc.transform(training_set)\n",
        "# Creating a data structure with 60 time-steps and 1 output\n",
        "X_train = []\n",
        "y_train = []\n",
        "for i in range(60, len(training_set)):\n",
        "    X_train.append(training_set_scaled[i-60:i,:])\n",
        "    y_train.append(training_set_scaled[i,3])\n",
        "X_train, y_train = tf.convert_to_tensor(X_train), tf.convert_to_tensor(y_train)\n",
        "test_set_scaled = sc.transform(test_set)\n",
        "X_test = []\n",
        "y_test = []\n",
        "for i in range(60, len(test_set)):\n",
        "    X_test.append(test_set_scaled[i-60:i, :])\n",
        "    y_test.append(test_set_scaled[i,3])\n",
        "X_test,y_test = tf.convert_to_tensor(X_test), tf.convert_to_tensor(y_test)\n",
        "model = tf.keras.models.load_model('my_model_with_1d_without_google_trends_price_change')\n",
        "google_trends_model = tf.keras.models.load_model('my_model_with_1d_google_trends_price_change')\n",
        "test_loss, test_acc = model.evaluate(X_test[:,:,:-2],  y_test, verbose=2)\n",
        "test_loss, test_acc = google_trends_model.evaluate(X_test,  y_test, verbose=2)"
      ],
      "metadata": {
        "colab": {
          "base_uri": "https://localhost:8080/"
        },
        "id": "b6lj5YRc_DIA",
        "outputId": "09bfbab3-3d53-4025-d8c1-04fc50734038"
      },
      "execution_count": 4,
      "outputs": [
        {
          "output_type": "stream",
          "name": "stdout",
          "text": [
            "MinMaxScaler()\n",
            "13/13 - 2s - loss: 0.6974 - accuracy: 0.4647 - 2s/epoch - 123ms/step\n",
            "13/13 - 1s - loss: 0.7143 - accuracy: 0.4647 - 1s/epoch - 100ms/step\n"
          ]
        }
      ]
    },
    {
      "cell_type": "code",
      "metadata": {
        "id": "yViUDori2sGK"
      },
      "source": [
        "'''\n",
        "#linear\n",
        "predicted_stock_price = model.predict(X_test[:,:,:-2])/sc.scale_[3]\n",
        "predicted_stock_price_with_google_trends = google_trends_model.predict(X_test)/sc.scale_[3]\n",
        "# Visualising the results\n",
        "plt.figure(figsize=(18,16))\n",
        "plt.plot(merged_dataframe.iloc[int(n*0.7)+60:,4].values, color = 'red', label = 'Real Bitcoin Price')\n",
        "plt.plot(predicted_stock_price, color = 'blue', label = ' Predicted Price')\n",
        "plt.plot(predicted_stock_price_with_google_trends, color = 'green', label = 'Predicted Price with google trends')\n",
        "plt.xticks(np.arange(0,len(test_set[60:,3]),50))\n",
        "plt.title('Bitcoin Price Prediction')\n",
        "plt.xlabel('Time')\n",
        "plt.ylabel('Bitcoin Price')\n",
        "plt.legend()\n",
        "plt.show()\n",
        "Output_Df = pd.DataFrame()\n",
        "original_close_Df = merged_dataframe.iloc[int(n*0.7)+60:,4].reset_index(drop = True)\n",
        "Output_Df['original_close_percentage'] = (original_close_Df-original_close_Df.shift(1))/original_close_Df*100\n",
        "predicted_stock_price_ = pd.Series(predicted_stock_price.reshape(1,-1)[0])\n",
        "Output_Df['model_close_percentage'] = (predicted_stock_price_-predicted_stock_price_.shift(1))/predicted_stock_price_*100\n",
        "predicted_stock_price_with_google_trends_ = pd.Series(predicted_stock_price_with_google_trends.reshape(1,-1)[0])\n",
        "Output_Df['model_with_google_trends_close_percentage'] = (predicted_stock_price_with_google_trends_-predicted_stock_price_with_google_trends_.shift(1))/predicted_stock_price_with_google_trends_*100\n",
        "Output_Df.dropna(inplace=True)\n",
        "Output_Df['ori_gain']=Output_Df['original_close_percentage']>0\n",
        "Output_Df['no_google_trends_gain']=Output_Df['model_close_percentage']>0\n",
        "Output_Df['google_trends_gain']=Output_Df['model_with_google_trends_close_percentage']>0\n",
        "print((Output_Df['ori_gain'] == Output_Df['no_google_trends_gain']).mean())\n",
        "print((Output_Df['ori_gain'] == Output_Df['google_trends_gain']).mean())\n",
        "'''"
      ],
      "execution_count": null,
      "outputs": []
    }
  ]
}