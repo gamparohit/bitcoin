{
  "cells": [
    {
      "cell_type": "code",
      "execution_count": 1,
      "metadata": {
        "id": "MFZEsfdmz_QH"
      },
      "outputs": [],
      "source": [
        "import os\n",
        "import math\n",
        "import matplotlib.pyplot as plt\n",
        "import keras\n",
        "import pandas as pd\n",
        "import numpy as np\n",
        "import tensorflow as tf\n",
        "from tensorflow.keras.models import Sequential\n",
        "from tensorflow.keras.layers import Dense\n",
        "from tensorflow.keras.layers import LSTM\n",
        "from tensorflow.keras.layers import Dropout\n",
        "from tensorflow.keras.layers import *\n",
        "from sklearn.preprocessing import MinMaxScaler\n",
        "from sklearn.metrics import mean_squared_error\n",
        "from sklearn.metrics import mean_absolute_error\n",
        "from sklearn.model_selection import train_test_split\n",
        "from tensorflow.keras.callbacks import EarlyStopping"
      ]
    },
    {
      "cell_type": "code",
      "execution_count": 2,
      "metadata": {
        "id": "YA89g4lStmud"
      },
      "outputs": [],
      "source": [
        "bitcoin_data = pd.read_csv('BTC-USDT-1h.csv')\n",
        "bitcoin_data.drop(columns = ['close_time','quote_asset_volume','number_of_trades','taker_buy_base_asset_volume','taker_buy_quote_asset_volume','ignore'],inplace=True)\n",
        "bitcoin_data['open_time'] = pd.to_datetime(bitcoin_data['open_time'],unit='ms').astype('str')"
      ]
    },
    {
      "cell_type": "code",
      "execution_count": 3,
      "metadata": {},
      "outputs": [
        {
          "data": {
            "text/html": [
              "<div>\n",
              "<style scoped>\n",
              "    .dataframe tbody tr th:only-of-type {\n",
              "        vertical-align: middle;\n",
              "    }\n",
              "\n",
              "    .dataframe tbody tr th {\n",
              "        vertical-align: top;\n",
              "    }\n",
              "\n",
              "    .dataframe thead th {\n",
              "        text-align: right;\n",
              "    }\n",
              "</style>\n",
              "<table border=\"1\" class=\"dataframe\">\n",
              "  <thead>\n",
              "    <tr style=\"text-align: right;\">\n",
              "      <th></th>\n",
              "      <th>open_time</th>\n",
              "      <th>open</th>\n",
              "      <th>high</th>\n",
              "      <th>low</th>\n",
              "      <th>close</th>\n",
              "      <th>volume</th>\n",
              "    </tr>\n",
              "  </thead>\n",
              "  <tbody>\n",
              "    <tr>\n",
              "      <th>0</th>\n",
              "      <td>2017-08-17 04:00:00.000</td>\n",
              "      <td>4261.48</td>\n",
              "      <td>4313.62</td>\n",
              "      <td>4261.32</td>\n",
              "      <td>4308.83</td>\n",
              "      <td>47.181009</td>\n",
              "    </tr>\n",
              "    <tr>\n",
              "      <th>1</th>\n",
              "      <td>2017-08-17 05:00:00.000</td>\n",
              "      <td>4308.83</td>\n",
              "      <td>4328.69</td>\n",
              "      <td>4291.37</td>\n",
              "      <td>4315.32</td>\n",
              "      <td>23.234916</td>\n",
              "    </tr>\n",
              "    <tr>\n",
              "      <th>2</th>\n",
              "      <td>2017-08-17 06:00:00.000</td>\n",
              "      <td>4330.29</td>\n",
              "      <td>4345.45</td>\n",
              "      <td>4309.37</td>\n",
              "      <td>4324.35</td>\n",
              "      <td>7.229691</td>\n",
              "    </tr>\n",
              "    <tr>\n",
              "      <th>3</th>\n",
              "      <td>2017-08-17 07:00:00.000</td>\n",
              "      <td>4316.62</td>\n",
              "      <td>4349.99</td>\n",
              "      <td>4287.41</td>\n",
              "      <td>4349.99</td>\n",
              "      <td>4.443249</td>\n",
              "    </tr>\n",
              "    <tr>\n",
              "      <th>4</th>\n",
              "      <td>2017-08-17 08:00:00.000</td>\n",
              "      <td>4333.32</td>\n",
              "      <td>4377.85</td>\n",
              "      <td>4333.32</td>\n",
              "      <td>4360.69</td>\n",
              "      <td>0.972807</td>\n",
              "    </tr>\n",
              "  </tbody>\n",
              "</table>\n",
              "</div>"
            ],
            "text/plain": [
              "                 open_time     open     high      low    close     volume\n",
              "0  2017-08-17 04:00:00.000  4261.48  4313.62  4261.32  4308.83  47.181009\n",
              "1  2017-08-17 05:00:00.000  4308.83  4328.69  4291.37  4315.32  23.234916\n",
              "2  2017-08-17 06:00:00.000  4330.29  4345.45  4309.37  4324.35   7.229691\n",
              "3  2017-08-17 07:00:00.000  4316.62  4349.99  4287.41  4349.99   4.443249\n",
              "4  2017-08-17 08:00:00.000  4333.32  4377.85  4333.32  4360.69   0.972807"
            ]
          },
          "execution_count": 3,
          "metadata": {},
          "output_type": "execute_result"
        }
      ],
      "source": [
        "bitcoin_data.head()"
      ]
    },
    {
      "cell_type": "code",
      "execution_count": 4,
      "metadata": {},
      "outputs": [],
      "source": [
        "bitcoin_data['percentage_change'] = ((bitcoin_data['close']-bitcoin_data['open'])/bitcoin_data['open'])*100"
      ]
    },
    {
      "cell_type": "code",
      "execution_count": 5,
      "metadata": {},
      "outputs": [
        {
          "data": {
            "text/plain": [
              "(43879, 7)"
            ]
          },
          "execution_count": 5,
          "metadata": {},
          "output_type": "execute_result"
        }
      ],
      "source": [
        "bitcoin_data.shape"
      ]
    },
    {
      "cell_type": "code",
      "execution_count": 6,
      "metadata": {},
      "outputs": [],
      "source": [
        "data_training = bitcoin_data[bitcoin_data['open_time']< '2022-01-01'].copy()\n",
        "data_test = bitcoin_data[bitcoin_data['open_time']> '2022-01-01'].copy()\n",
        "training_data = data_training.drop(['open_time'], axis = 1)"
      ]
    },
    {
      "cell_type": "code",
      "execution_count": 7,
      "metadata": {},
      "outputs": [],
      "source": [
        "scaler = MinMaxScaler()\n",
        "training_data = scaler.fit_transform(training_data)"
      ]
    },
    {
      "cell_type": "code",
      "execution_count": 8,
      "metadata": {},
      "outputs": [
        {
          "data": {
            "text/plain": [
              "(38162, 60, 6)"
            ]
          },
          "execution_count": 8,
          "metadata": {},
          "output_type": "execute_result"
        }
      ],
      "source": [
        "X_train = [] \n",
        "Y_train = []\n",
        "training_data.shape[0]\n",
        "for i in range(60, training_data.shape[0]):\n",
        " X_train.append(training_data[i-60:i])\n",
        " Y_train.append(training_data[i,:])\n",
        "X_train, Y_train = np.array(X_train), np.array(Y_train)\n",
        "X_train.shape"
      ]
    },
    {
      "cell_type": "code",
      "execution_count": 9,
      "metadata": {},
      "outputs": [
        {
          "name": "stdout",
          "output_type": "stream",
          "text": [
            "WARNING:tensorflow:Layer lstm will not use cuDNN kernels since it doesn't meet the criteria. It will use a generic GPU kernel as fallback when running on GPU.\n",
            "WARNING:tensorflow:Layer lstm_1 will not use cuDNN kernels since it doesn't meet the criteria. It will use a generic GPU kernel as fallback when running on GPU.\n",
            "WARNING:tensorflow:Layer lstm_2 will not use cuDNN kernels since it doesn't meet the criteria. It will use a generic GPU kernel as fallback when running on GPU.\n",
            "WARNING:tensorflow:Layer lstm_3 will not use cuDNN kernels since it doesn't meet the criteria. It will use a generic GPU kernel as fallback when running on GPU.\n",
            "Model: \"sequential\"\n",
            "_________________________________________________________________\n",
            " Layer (type)                Output Shape              Param #   \n",
            "=================================================================\n",
            " lstm (LSTM)                 (None, 60, 50)            11400     \n",
            "                                                                 \n",
            " dropout (Dropout)           (None, 60, 50)            0         \n",
            "                                                                 \n",
            " lstm_1 (LSTM)               (None, 60, 60)            26640     \n",
            "                                                                 \n",
            " dropout_1 (Dropout)         (None, 60, 60)            0         \n",
            "                                                                 \n",
            " lstm_2 (LSTM)               (None, 60, 80)            45120     \n",
            "                                                                 \n",
            " dropout_2 (Dropout)         (None, 60, 80)            0         \n",
            "                                                                 \n",
            " lstm_3 (LSTM)               (None, 120)               96480     \n",
            "                                                                 \n",
            " dropout_3 (Dropout)         (None, 120)               0         \n",
            "                                                                 \n",
            " dense (Dense)               (None, 6)                 726       \n",
            "                                                                 \n",
            "=================================================================\n",
            "Total params: 180,366\n",
            "Trainable params: 180,366\n",
            "Non-trainable params: 0\n",
            "_________________________________________________________________\n"
          ]
        }
      ],
      "source": [
        "with tf.device('gpu'):\n",
        "    model = Sequential() \n",
        "    model.add(LSTM(units = 50, activation = 'relu', return_sequences = True, input_shape = (X_train.shape[1], X_train.shape[2])))\n",
        "    model.add(Dropout(0.2)) \n",
        "    model.add(LSTM(units = 60, activation = 'relu', return_sequences = True))\n",
        "    model.add(Dropout(0.3)) \n",
        "    model.add(LSTM(units = 80, activation = 'relu', return_sequences = True))\n",
        "    model.add(Dropout(0.4)) \n",
        "    model.add(LSTM(units = 120, activation = 'relu'))\n",
        "    model.add(Dropout(0.5)) \n",
        "    model.add(Dense(units =6))\n",
        "    model.summary()"
      ]
    },
    {
      "cell_type": "code",
      "execution_count": 10,
      "metadata": {},
      "outputs": [],
      "source": [
        "model.compile(optimizer = 'adam', loss = 'mean_squared_error')"
      ]
    },
    {
      "cell_type": "code",
      "execution_count": 21,
      "metadata": {},
      "outputs": [
        {
          "name": "stdout",
          "output_type": "stream",
          "text": [
            "Epoch 1/30\n",
            "138/138 [==============================] - 76s 550ms/step - loss: 0.0020 - val_loss: 0.0057\n",
            "Epoch 2/30\n",
            "138/138 [==============================] - 75s 542ms/step - loss: 0.0019 - val_loss: 0.0091\n",
            "Epoch 3/30\n",
            "138/138 [==============================] - 74s 539ms/step - loss: 0.0017 - val_loss: 0.0058\n",
            "Epoch 4/30\n",
            "138/138 [==============================] - 77s 558ms/step - loss: 0.0016 - val_loss: 0.0090\n",
            "Epoch 5/30\n",
            "138/138 [==============================] - 81s 587ms/step - loss: 0.0015 - val_loss: 0.0080\n",
            "Epoch 6/30\n",
            "138/138 [==============================] - 75s 545ms/step - loss: 0.0015 - val_loss: 0.0112\n",
            "Epoch 7/30\n",
            "138/138 [==============================] - 75s 545ms/step - loss: 0.0014 - val_loss: 0.0114\n",
            "Epoch 8/30\n",
            "138/138 [==============================] - 75s 542ms/step - loss: 0.0013 - val_loss: 0.0109\n",
            "Epoch 9/30\n",
            "138/138 [==============================] - 74s 538ms/step - loss: 0.0013 - val_loss: 0.0091\n",
            "Epoch 10/30\n",
            "138/138 [==============================] - 74s 539ms/step - loss: 0.0013 - val_loss: 0.0098\n",
            "Epoch 11/30\n",
            "138/138 [==============================] - 83s 600ms/step - loss: 0.0012 - val_loss: 0.0112\n",
            "Epoch 12/30\n",
            "138/138 [==============================] - 80s 577ms/step - loss: 0.0012 - val_loss: 0.0169\n",
            "Epoch 13/30\n",
            "138/138 [==============================] - 80s 581ms/step - loss: 0.0012 - val_loss: 0.0082\n",
            "Epoch 14/30\n",
            "138/138 [==============================] - 76s 549ms/step - loss: 0.0012 - val_loss: 0.0081\n",
            "Epoch 15/30\n",
            "138/138 [==============================] - 75s 542ms/step - loss: 0.0011 - val_loss: 0.0107\n",
            "Epoch 16/30\n",
            "138/138 [==============================] - 75s 541ms/step - loss: 0.0011 - val_loss: 0.0114\n",
            "Epoch 17/30\n",
            "138/138 [==============================] - 75s 546ms/step - loss: 0.0011 - val_loss: 0.0049\n",
            "Epoch 18/30\n",
            "138/138 [==============================] - 74s 535ms/step - loss: 0.0011 - val_loss: 0.0068\n",
            "Epoch 19/30\n",
            "138/138 [==============================] - 77s 559ms/step - loss: 0.0011 - val_loss: 0.0051\n",
            "Epoch 20/30\n",
            "138/138 [==============================] - 76s 552ms/step - loss: 0.0011 - val_loss: 0.0074\n",
            "Epoch 21/30\n",
            "138/138 [==============================] - 78s 566ms/step - loss: 0.0011 - val_loss: 0.0049\n",
            "Epoch 22/30\n",
            "138/138 [==============================] - 79s 573ms/step - loss: 0.0011 - val_loss: 0.0072\n",
            "Epoch 23/30\n",
            "138/138 [==============================] - 75s 544ms/step - loss: 0.0011 - val_loss: 0.0057\n",
            "Epoch 24/30\n",
            "138/138 [==============================] - 110s 798ms/step - loss: 0.0010 - val_loss: 0.0094\n",
            "Epoch 25/30\n",
            "138/138 [==============================] - 73s 529ms/step - loss: 0.0010 - val_loss: 0.0081\n",
            "Epoch 26/30\n",
            "138/138 [==============================] - 71s 518ms/step - loss: 0.0010 - val_loss: 0.0077\n",
            "Epoch 27/30\n",
            "138/138 [==============================] - 72s 520ms/step - loss: 0.0010 - val_loss: 0.0060\n",
            "Epoch 28/30\n",
            "138/138 [==============================] - 72s 524ms/step - loss: 0.0010 - val_loss: 0.0080\n",
            "Epoch 29/30\n",
            "138/138 [==============================] - 72s 519ms/step - loss: 0.0010 - val_loss: 0.0058\n",
            "Epoch 30/30\n",
            "138/138 [==============================] - 72s 524ms/step - loss: 0.0010 - val_loss: 0.0079\n"
          ]
        }
      ],
      "source": [
        "history= model.fit(X_train, Y_train, epochs = 30, batch_size =250, validation_split=0.1)"
      ]
    },
    {
      "cell_type": "code",
      "execution_count": 22,
      "metadata": {},
      "outputs": [
        {
          "data": {
            "image/png": "[encoded data removed]",
            "text/plain": [
              "<Figure size 432x288 with 1 Axes>"
            ]
          },
          "metadata": {
            "needs_background": "light"
          },
          "output_type": "display_data"
        }
      ],
      "source": [
        "loss = history.history['loss']\n",
        "val_loss = history.history['val_loss']\n",
        "epochs = range(len(loss))\n",
        "plt.figure()\n",
        "plt.plot(epochs, loss, 'b', label='Training loss')\n",
        "plt.plot(epochs, val_loss, 'r', label='Validation loss')\n",
        "plt.title(\"Training and Validation Loss\")\n",
        "plt.legend()\n",
        "plt.show()"
      ]
    },
    {
      "cell_type": "code",
      "execution_count": 23,
      "metadata": {},
      "outputs": [
        {
          "name": "stderr",
          "output_type": "stream",
          "text": [
            "C:\\Users\\gampa\\AppData\\Local\\Temp\\ipykernel_18016\\2070271018.py:2: FutureWarning: The frame.append method is deprecated and will be removed from pandas in a future version. Use pandas.concat instead.\n",
            "  df= part_60_days.append(data_test, ignore_index = True)\n"
          ]
        },
        {
          "data": {
            "text/html": [
              "<div>\n",
              "<style scoped>\n",
              "    .dataframe tbody tr th:only-of-type {\n",
              "        vertical-align: middle;\n",
              "    }\n",
              "\n",
              "    .dataframe tbody tr th {\n",
              "        vertical-align: top;\n",
              "    }\n",
              "\n",
              "    .dataframe thead th {\n",
              "        text-align: right;\n",
              "    }\n",
              "</style>\n",
              "<table border=\"1\" class=\"dataframe\">\n",
              "  <thead>\n",
              "    <tr style=\"text-align: right;\">\n",
              "      <th></th>\n",
              "      <th>open</th>\n",
              "      <th>high</th>\n",
              "      <th>low</th>\n",
              "      <th>close</th>\n",
              "      <th>volume</th>\n",
              "      <th>percentage_change</th>\n",
              "    </tr>\n",
              "  </thead>\n",
              "  <tbody>\n",
              "    <tr>\n",
              "      <th>0</th>\n",
              "      <td>47737.96</td>\n",
              "      <td>47777.77</td>\n",
              "      <td>46661.00</td>\n",
              "      <td>46824.23</td>\n",
              "      <td>4248.68643</td>\n",
              "      <td>-1.914053</td>\n",
              "    </tr>\n",
              "    <tr>\n",
              "      <th>1</th>\n",
              "      <td>46824.23</td>\n",
              "      <td>47458.92</td>\n",
              "      <td>46586.62</td>\n",
              "      <td>47402.65</td>\n",
              "      <td>2455.36215</td>\n",
              "      <td>1.235301</td>\n",
              "    </tr>\n",
              "    <tr>\n",
              "      <th>2</th>\n",
              "      <td>47402.65</td>\n",
              "      <td>47888.92</td>\n",
              "      <td>47239.60</td>\n",
              "      <td>47826.00</td>\n",
              "      <td>3243.86459</td>\n",
              "      <td>0.893094</td>\n",
              "    </tr>\n",
              "    <tr>\n",
              "      <th>3</th>\n",
              "      <td>47826.00</td>\n",
              "      <td>48030.05</td>\n",
              "      <td>47721.71</td>\n",
              "      <td>47959.36</td>\n",
              "      <td>2180.51068</td>\n",
              "      <td>0.278844</td>\n",
              "    </tr>\n",
              "    <tr>\n",
              "      <th>4</th>\n",
              "      <td>47959.36</td>\n",
              "      <td>48038.92</td>\n",
              "      <td>47603.00</td>\n",
              "      <td>47727.43</td>\n",
              "      <td>1474.70054</td>\n",
              "      <td>-0.483597</td>\n",
              "    </tr>\n",
              "  </tbody>\n",
              "</table>\n",
              "</div>"
            ],
            "text/plain": [
              "       open      high       low     close      volume  percentage_change\n",
              "0  47737.96  47777.77  46661.00  46824.23  4248.68643          -1.914053\n",
              "1  46824.23  47458.92  46586.62  47402.65  2455.36215           1.235301\n",
              "2  47402.65  47888.92  47239.60  47826.00  3243.86459           0.893094\n",
              "3  47826.00  48030.05  47721.71  47959.36  2180.51068           0.278844\n",
              "4  47959.36  48038.92  47603.00  47727.43  1474.70054          -0.483597"
            ]
          },
          "execution_count": 23,
          "metadata": {},
          "output_type": "execute_result"
        }
      ],
      "source": [
        "part_60_days = data_training.tail(60)\n",
        "df= part_60_days.append(data_test, ignore_index = True)\n",
        "df = df.drop(['open_time'], axis = 1)\n",
        "df.head()"
      ]
    },
    {
      "cell_type": "code",
      "execution_count": 24,
      "metadata": {},
      "outputs": [],
      "source": [
        "inputs = scaler.transform(df)"
      ]
    },
    {
      "cell_type": "code",
      "execution_count": 25,
      "metadata": {},
      "outputs": [
        {
          "name": "stdout",
          "output_type": "stream",
          "text": [
            "177/177 [==============================] - 11s 60ms/step\n"
          ]
        }
      ],
      "source": [
        "X_test = []\n",
        "Y_test = []\n",
        "for i in range (60, inputs.shape[0]):\n",
        "    X_test.append(inputs[i-60:i]) \n",
        "    Y_test.append(inputs[i, : ])\n",
        "X_test, Y_test = np.array(X_test), np.array(Y_test) \n",
        "Y_pred = model.predict(X_test)"
      ]
    },
    {
      "cell_type": "code",
      "execution_count": 26,
      "metadata": {},
      "outputs": [
        {
          "data": {
            "text/plain": [
              "array([1.52058369e-05, 1.51400454e-05, 1.52359616e-05, 1.52172977e-05,\n",
              "       2.11614403e-05, 2.80998553e-02])"
            ]
          },
          "execution_count": 26,
          "metadata": {},
          "output_type": "execute_result"
        }
      ],
      "source": [
        "scaler.scale_"
      ]
    },
    {
      "cell_type": "code",
      "execution_count": 27,
      "metadata": {},
      "outputs": [],
      "source": [
        "Y_test = scaler.inverse_transform(Y_test)\n",
        "Y_pred = scaler.inverse_transform(Y_pred)"
      ]
    },
    {
      "cell_type": "code",
      "execution_count": 28,
      "metadata": {},
      "outputs": [
        {
          "data": {
            "image/png": "[encoded data removed]",
            "text/plain": [
              "<Figure size 1008x360 with 1 Axes>"
            ]
          },
          "metadata": {
            "needs_background": "light"
          },
          "output_type": "display_data"
        }
      ],
      "source": [
        "plt.figure(figsize=(14,5))\n",
        "plt.plot(Y_test[:,0], color = 'red', label = 'Real Bitcoin Price')\n",
        "plt.plot(Y_pred[:,0], color = 'green', label = 'Predicted Bitcoin Price')\n",
        "plt.title('Bitcoin Price Prediction using RNN-LSTM')\n",
        "plt.xlabel('Time')\n",
        "plt.ylabel('Price')\n",
        "plt.legend()\n",
        "plt.show()"
      ]
    }
  ],
  "metadata": {
    "accelerator": "TPU",
    "colab": {
      "collapsed_sections": [],
      "machine_shape": "hm",
      "name": "Data Mining Final Project.ipynb",
      "provenance": []
    },
    "kernelspec": {
      "display_name": "Python 3.9.12 ('base')",
      "language": "python",
      "name": "python3"
    },
    "language_info": {
      "codemirror_mode": {
        "name": "ipython",
        "version": 3
      },
      "file_extension": ".py",
      "mimetype": "text/x-python",
      "name": "python",
      "nbconvert_exporter": "python",
      "pygments_lexer": "ipython3",
      "version": "3.9.12"
    },
    "vscode": {
      "interpreter": {
        "hash": "437815f886cc2dc432f211a2b1d1b070f8da8d2ea06ea787b1b9a0b4ec870446"
      }
    }
  },
  "nbformat": 4,
  "nbformat_minor": 0
}
